{
 "cells": [
  {
   "cell_type": "code",
   "execution_count": 5,
   "id": "6aa25d0f-d3d2-4fbd-9eb2-255e4dfcdddd",
   "metadata": {},
   "outputs": [
    {
     "ename": "ModuleNotFoundError",
     "evalue": "No module named 'pandas'",
     "output_type": "error",
     "traceback": [
      "\u001b[1;31m---------------------------------------------------------------------------\u001b[0m",
      "\u001b[1;31mModuleNotFoundError\u001b[0m                       Traceback (most recent call last)",
      "Cell \u001b[1;32mIn[5], line 1\u001b[0m\n\u001b[1;32m----> 1\u001b[0m \u001b[38;5;28;01mimport\u001b[39;00m \u001b[38;5;21;01mpandas\u001b[39;00m \u001b[38;5;28;01mas\u001b[39;00m \u001b[38;5;21;01mpd\u001b[39;00m\n\u001b[0;32m      2\u001b[0m data \u001b[38;5;241m=\u001b[39m {\u001b[38;5;124m\"\u001b[39m\u001b[38;5;124mName\u001b[39m\u001b[38;5;124m\"\u001b[39m: [\u001b[38;5;124m\"\u001b[39m\u001b[38;5;124mPrerana\u001b[39m\u001b[38;5;124m\"\u001b[39m,\u001b[38;5;124m\"\u001b[39m\u001b[38;5;124mMahi\u001b[39m\u001b[38;5;124m\"\u001b[39m,\u001b[38;5;124m\"\u001b[39m\u001b[38;5;124mDivya\u001b[39m\u001b[38;5;124m\"\u001b[39m],\n\u001b[0;32m      3\u001b[0m         \u001b[38;5;124m\"\u001b[39m\u001b[38;5;124mAge\u001b[39m\u001b[38;5;124m\"\u001b[39m:[\u001b[38;5;241m20\u001b[39m,\u001b[38;5;241m19\u001b[39m,\u001b[38;5;241m21\u001b[39m],\n\u001b[0;32m      4\u001b[0m         \u001b[38;5;124m\"\u001b[39m\u001b[38;5;124mAddress\u001b[39m\u001b[38;5;124m\"\u001b[39m:[\u001b[38;5;124m\"\u001b[39m\u001b[38;5;124mIchalkaranji\u001b[39m\u001b[38;5;124m\"\u001b[39m,\u001b[38;5;124m\"\u001b[39m\u001b[38;5;124mSangli\u001b[39m\u001b[38;5;124m\"\u001b[39m,\u001b[38;5;124m\"\u001b[39m\u001b[38;5;124mKolhapur\u001b[39m\u001b[38;5;124m\"\u001b[39m],\n\u001b[0;32m      5\u001b[0m         \u001b[38;5;124m\"\u001b[39m\u001b[38;5;124mSalary\u001b[39m\u001b[38;5;124m\"\u001b[39m:[\u001b[38;5;241m15000\u001b[39m,\u001b[38;5;241m10000\u001b[39m,\u001b[38;5;241m20000\u001b[39m]}\n\u001b[0;32m      7\u001b[0m df \u001b[38;5;241m=\u001b[39m pd\u001b[38;5;241m.\u001b[39mDataFrame(data)\n",
      "\u001b[1;31mModuleNotFoundError\u001b[0m: No module named 'pandas'"
     ]
    }
   ],
   "source": [
    "import pandas as pd\n",
    "data = {\"Name\": [\"Prerana\",\"Mahi\",\"Divya\"],\n",
    "        \"Age\":[20,19,21],\n",
    "        \"Address\":[\"Ichalkaranji\",\"Sangli\",\"Kolhapur\"],\n",
    "        \"Salary\":[15000,10000,20000]}\n",
    "\n",
    "df = pd.DataFrame(data)\n",
    "print(df)"
   ]
  },
  {
   "cell_type": "code",
   "execution_count": 6,
   "id": "34334d7a",
   "metadata": {},
   "outputs": [
    {
     "ename": "ModuleNotFoundError",
     "evalue": "No module named 'pandas'",
     "output_type": "error",
     "traceback": [
      "\u001b[1;31m---------------------------------------------------------------------------\u001b[0m",
      "\u001b[1;31mModuleNotFoundError\u001b[0m                       Traceback (most recent call last)",
      "Cell \u001b[1;32mIn[6], line 1\u001b[0m\n\u001b[1;32m----> 1\u001b[0m \u001b[38;5;28;01mimport\u001b[39;00m \u001b[38;5;21;01mpandas\u001b[39;00m \u001b[38;5;28;01mas\u001b[39;00m \u001b[38;5;21;01mpd\u001b[39;00m\n\u001b[0;32m      2\u001b[0m \u001b[38;5;28mprint\u001b[39m(pd\u001b[38;5;241m.\u001b[39m__version__)\n",
      "\u001b[1;31mModuleNotFoundError\u001b[0m: No module named 'pandas'"
     ]
    }
   ],
   "source": [
    "import pandas as pd\n",
    "print(pd.__version__)"
   ]
  },
  {
   "cell_type": "code",
   "execution_count": null,
   "id": "1994dce8-d02a-4e27-87cb-5ec78d449813",
   "metadata": {
    "collapsed": true,
    "jupyter": {
     "outputs_hidden": true
    }
   },
   "outputs": [],
   "source": [
    "df_CSV = pd.read_csv(\"D:/Degree/codes/Python/DataSet/annual-enterprise-survey.csv\")\n",
    "print(df_CSV)"
   ]
  },
  {
   "cell_type": "code",
   "execution_count": null,
   "id": "1d806c94-73fc-46ed-be21-2823fbd8928a",
   "metadata": {},
   "outputs": [],
   "source": [
    "df_Xlsx = pd.read_excel(\"D:/Degree /codes/Python/DataSet/Amazon 3.xlsx\")\n",
    "print(df_Xlsx)"
   ]
  },
  {
   "cell_type": "code",
   "execution_count": null,
   "id": "86ef6ff0-213f-4c9c-93b6-568415f73681",
   "metadata": {},
   "outputs": [],
   "source": [
    "print(df_CSV.info())"
   ]
  },
  {
   "cell_type": "code",
   "execution_count": null,
   "id": "1556085a-e7ad-4a15-83f7-b516c239bc2b",
   "metadata": {},
   "outputs": [],
   "source": [
    "print(df_CSV.describe())"
   ]
  },
  {
   "cell_type": "code",
   "execution_count": null,
   "id": "70a918ab-b121-4149-9064-771f65dbc53e",
   "metadata": {},
   "outputs": [],
   "source": [
    "print(df_CSV.shape)"
   ]
  },
  {
   "cell_type": "code",
   "execution_count": null,
   "id": "1fddb918-6cbd-4d8c-a028-e019dde447e8",
   "metadata": {},
   "outputs": [],
   "source": [
    "print(df_Xlsx.isnull().sum())"
   ]
  },
  {
   "cell_type": "code",
   "execution_count": null,
   "id": "b17598bd-b464-491d-851b-e3f4c469602b",
   "metadata": {},
   "outputs": [],
   "source": [
    "print(df_Xlsx[\"Order ID\"].duplicated().sum())"
   ]
  },
  {
   "cell_type": "code",
   "execution_count": null,
   "id": "c6579011-b35c-4641-ada2-37e408839653",
   "metadata": {},
   "outputs": [],
   "source": [
    "print(df_CSV[\"value\"].isnull())"
   ]
  }
 ],
 "metadata": {
  "kernelspec": {
   "display_name": "Python 3",
   "language": "python",
   "name": "python3"
  },
  "language_info": {
   "codemirror_mode": {
    "name": "ipython",
    "version": 3
   },
   "file_extension": ".py",
   "mimetype": "text/x-python",
   "name": "python",
   "nbconvert_exporter": "python",
   "pygments_lexer": "ipython3",
   "version": "3.12.8"
  }
 },
 "nbformat": 4,
 "nbformat_minor": 5
}
