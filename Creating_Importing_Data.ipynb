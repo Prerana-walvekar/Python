{
 "cells": [
  {
   "cell_type": "code",
   "execution_count": 1,
   "id": "6aa25d0f-d3d2-4fbd-9eb2-255e4dfcdddd",
   "metadata": {},
   "outputs": [
    {
     "name": "stdout",
     "output_type": "stream",
     "text": [
      "      Name  Age       Address  Salary\n",
      "0  Prerana   20  Ichalkaranji   15000\n",
      "1     Mahi   19        Sangli   10000\n",
      "2    Divya   21      Kolhapur   20000\n"
     ]
    }
   ],
   "source": [
    "import pandas as pd\n",
    "data = {\"Name\": [\"Prerana\",\"Mahi\",\"Divya\"],\n",
    "        \"Age\":[20,19,21],\n",
    "        \"Address\":[\"Ichalkaranji\",\"Sangli\",\"Kolhapur\"],\n",
    "        \"Salary\":[15000,10000,20000]}\n",
    "\n",
    "df = pd.DataFrame(data)\n",
    "print(df)"
   ]
  },
  {
   "cell_type": "code",
   "execution_count": null,
   "id": "34334d7a",
   "metadata": {},
   "outputs": [],
   "source": [
    "import pandas as pd\n",
    "print(pd.__version__)"
   ]
  },
  {
   "cell_type": "code",
   "execution_count": null,
   "id": "1994dce8-d02a-4e27-87cb-5ec78d449813",
   "metadata": {
    "collapsed": true,
    "jupyter": {
     "outputs_hidden": true
    }
   },
   "outputs": [],
   "source": [
    "df_CSV = pd.read_csv(\"D:/Degree/codes/Python/DataSet/annual-enterprise-survey.csv\")\n",
    "print(df_CSV)"
   ]
  },
  {
   "cell_type": "code",
   "execution_count": null,
   "id": "1d806c94-73fc-46ed-be21-2823fbd8928a",
   "metadata": {},
   "outputs": [],
   "source": [
    "df_Xlsx = pd.read_excel(\"D:/Degree /codes/Python/DataSet/Amazon 3.xlsx\")\n",
    "print(df_Xlsx)"
   ]
  },
  {
   "cell_type": "code",
   "execution_count": null,
   "id": "86ef6ff0-213f-4c9c-93b6-568415f73681",
   "metadata": {},
   "outputs": [],
   "source": [
    "print(df_CSV.info())"
   ]
  },
  {
   "cell_type": "code",
   "execution_count": null,
   "id": "1556085a-e7ad-4a15-83f7-b516c239bc2b",
   "metadata": {},
   "outputs": [],
   "source": [
    "print(df_CSV.describe())"
   ]
  },
  {
   "cell_type": "code",
   "execution_count": null,
   "id": "70a918ab-b121-4149-9064-771f65dbc53e",
   "metadata": {},
   "outputs": [],
   "source": [
    "print(df_CSV.shape)"
   ]
  },
  {
   "cell_type": "code",
   "execution_count": null,
   "id": "1fddb918-6cbd-4d8c-a028-e019dde447e8",
   "metadata": {},
   "outputs": [],
   "source": [
    "print(df_Xlsx.isnull().sum())"
   ]
  },
  {
   "cell_type": "code",
   "execution_count": null,
   "id": "b17598bd-b464-491d-851b-e3f4c469602b",
   "metadata": {},
   "outputs": [],
   "source": [
    "print(df_Xlsx[\"Order ID\"].duplicated().sum())"
   ]
  },
  {
   "cell_type": "code",
   "execution_count": null,
   "id": "c6579011-b35c-4641-ada2-37e408839653",
   "metadata": {},
   "outputs": [],
   "source": [
    "print(df_CSV[\"value\"].isnull())"
   ]
  }
 ],
 "metadata": {
  "kernelspec": {
   "display_name": "myenv",
   "language": "python",
   "name": "python3"
  },
  "language_info": {
   "codemirror_mode": {
    "name": "ipython",
    "version": 3
   },
   "file_extension": ".py",
   "mimetype": "text/x-python",
   "name": "python",
   "nbconvert_exporter": "python",
   "pygments_lexer": "ipython3",
   "version": "3.12.8"
  }
 },
 "nbformat": 4,
 "nbformat_minor": 5
}
