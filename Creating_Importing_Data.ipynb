{
 "cells": [
  {
   "cell_type": "code",
   "execution_count": 1,
   "id": "6aa25d0f-d3d2-4fbd-9eb2-255e4dfcdddd",
   "metadata": {},
   "outputs": [
    {
     "name": "stdout",
     "output_type": "stream",
     "text": [
      "      Name  Age       Address  Salary\n",
      "0  Prerana   20  Ichalkaranji   15000\n",
      "1     Mahi   19        Sangli   10000\n",
      "2    Divya   21      Kolhapur   20000\n"
     ]
    }
   ],
   "source": [
    "import pandas as pd\n",
    "data = {\"Name\": [\"Prerana\",\"Mahi\",\"Divya\"],\n",
    "        \"Age\":[20,19,21],\n",
    "        \"Address\":[\"Ichalkaranji\",\"Sangli\",\"Kolhapur\"],\n",
    "        \"Salary\":[15000,10000,20000]}\n",
    "\n",
    "df = pd.DataFrame(data)\n",
    "print(df)"
   ]
  },
  {
   "cell_type": "code",
   "execution_count": 2,
   "id": "1994dce8-d02a-4e27-87cb-5ec78d449813",
   "metadata": {
    "collapsed": true,
    "jupyter": {
     "outputs_hidden": true
    }
   },
   "outputs": [
    {
     "name": "stdout",
     "output_type": "stream",
     "text": [
      "       year industry_code_ANZSIC               industry_name_ANZSIC  \\\n",
      "0      2011                    A  Agriculture, Forestry and Fishing   \n",
      "1      2011                    A  Agriculture, Forestry and Fishing   \n",
      "2      2011                    A  Agriculture, Forestry and Fishing   \n",
      "3      2011                    A  Agriculture, Forestry and Fishing   \n",
      "4      2011                    A  Agriculture, Forestry and Fishing   \n",
      "...     ...                  ...                                ...   \n",
      "20119  2023                  all                     All Industries   \n",
      "20120  2023                  all                     All Industries   \n",
      "20121  2023                  all                     All Industries   \n",
      "20122  2023                  all                     All Industries   \n",
      "20123  2023                  all                     All Industries   \n",
      "\n",
      "        rme_size_grp                                         variable  \\\n",
      "0                a_0                                    Activity unit   \n",
      "1                a_0                           Rolling mean employees   \n",
      "2                a_0                          Salaries and wages paid   \n",
      "3                a_0  Sales, government funding, grants and subsidies   \n",
      "4                a_0                                     Total income   \n",
      "...              ...                                              ...   \n",
      "20119  j_Grand_Total                                     Total income   \n",
      "20120  j_Grand_Total                                Total expenditure   \n",
      "20121  j_Grand_Total                      Operating profit before tax   \n",
      "20122  j_Grand_Total                                     Total assets   \n",
      "20123  j_Grand_Total                            Fixed tangible assets   \n",
      "\n",
      "         value               unit  \n",
      "0        46134              COUNT  \n",
      "1            0              COUNT  \n",
      "2          279  DOLLARS(millions)  \n",
      "3         8187  DOLLARS(millions)  \n",
      "4         8866  DOLLARS(millions)  \n",
      "...        ...                ...  \n",
      "20119   930995  DOLLARS(millions)  \n",
      "20120   832964  DOLLARS(millions)  \n",
      "20121   103616  DOLLARS(millions)  \n",
      "20122  2831894  DOLLARS(millions)  \n",
      "20123   681890  DOLLARS(millions)  \n",
      "\n",
      "[20124 rows x 7 columns]\n"
     ]
    }
   ],
   "source": [
    "df_CSV = pd.read_csv(\"D:/Degree/codes/Python/DataSet/annual-enterprise-survey.csv\")\n",
    "print(df_CSV)"
   ]
  },
  {
   "cell_type": "code",
   "execution_count": 3,
   "id": "1d806c94-73fc-46ed-be21-2823fbd8928a",
   "metadata": {},
   "outputs": [
    {
     "name": "stdout",
     "output_type": "stream",
     "text": [
      "            Order ID Order Date  Ship Date   Status   Customer Name  \\\n",
      "0     CA-2013-138688 2013-06-13 2013-06-17  On time   DarrinVanHuff   \n",
      "1     CA-2011-115812 2011-06-09 2011-06-14    Delay  BrosinaHoffman   \n",
      "2     CA-2011-115812 2011-06-09 2011-06-14    Delay  BrosinaHoffman   \n",
      "3     CA-2011-115812 2011-06-09 2011-06-14    Delay  BrosinaHoffman   \n",
      "4     CA-2011-115812 2011-06-09 2011-06-14    Delay  BrosinaHoffman   \n",
      "...              ...        ...        ...      ...             ...   \n",
      "3198  CA-2013-125794 2013-09-30 2013-10-04  On time     MarisLaWare   \n",
      "3199  CA-2014-121258 2014-02-27 2014-03-04    Delay      DaveBrooks   \n",
      "3200  CA-2014-121258 2014-02-27 2014-03-04    Delay      DaveBrooks   \n",
      "3201  CA-2014-121258 2014-02-27 2014-03-04    Delay      DaveBrooks   \n",
      "3202  CA-2014-119914 2014-05-05 2014-05-10    Delay     ChrisCortes   \n",
      "\n",
      "            Country         City       State     Category  \\\n",
      "0     United States  Los Angeles  California       Labels   \n",
      "1     United States  Los Angeles  California  Furnishings   \n",
      "2     United States  Los Angeles  California          Art   \n",
      "3     United States  Los Angeles  California       Phones   \n",
      "4     United States  Los Angeles  California      Binders   \n",
      "...             ...          ...         ...          ...   \n",
      "3198  United States  Los Angeles  California  Accessories   \n",
      "3199  United States   Costa Mesa  California  Furnishings   \n",
      "3200  United States   Costa Mesa  California       Phones   \n",
      "3201  United States   Costa Mesa  California        Paper   \n",
      "3202  United States  Westminster  California   Appliances   \n",
      "\n",
      "                                           Product Name    Sales  Quantity  \\\n",
      "0     Self-Adhesive Address Labels for Typewriters b...   14.620         2   \n",
      "1     Eldon Expressions Wood and Plastic Desk Access...   48.860         7   \n",
      "2                                            Newell 322    7.280         4   \n",
      "3                        Mitel 5320 IP Phone VoIP phone  907.152         4   \n",
      "4     DXL Angle-View Binders with Locking Rings by S...   18.504         3   \n",
      "...                                                 ...      ...       ...   \n",
      "3198  Memorex Mini Travel Drive 64 GB USB 2.0 Flash ...   36.240         1   \n",
      "3199  Tenex B1-RE Series Chair Mats for Low Pile Car...   91.960         2   \n",
      "3200                              Aastra 57i VoIP phone  258.576         2   \n",
      "3201  It's Hot Message Books with Stickers, 2 3/4\" x 5\"   29.600         4   \n",
      "3202  Acco 7-Outlet Masterpiece Power Center, Wihtou...  243.160         2   \n",
      "\n",
      "       Profit  \n",
      "0      6.8714  \n",
      "1     14.1694  \n",
      "2      1.9656  \n",
      "3     90.7152  \n",
      "4      5.7825  \n",
      "...       ...  \n",
      "3198  15.2208  \n",
      "3199  15.6332  \n",
      "3200  19.3932  \n",
      "3201  13.3200  \n",
      "3202  72.9480  \n",
      "\n",
      "[3203 rows x 13 columns]\n"
     ]
    }
   ],
   "source": [
    "df_Xlsx = pd.read_excel(\"D:/Degree/codes/Python/DataSet/Amazon 3.xlsx\")\n",
    "print(df_Xlsx)"
   ]
  },
  {
   "cell_type": "code",
   "execution_count": 4,
   "id": "86ef6ff0-213f-4c9c-93b6-568415f73681",
   "metadata": {},
   "outputs": [
    {
     "name": "stdout",
     "output_type": "stream",
     "text": [
      "<class 'pandas.core.frame.DataFrame'>\n",
      "RangeIndex: 20124 entries, 0 to 20123\n",
      "Data columns (total 7 columns):\n",
      " #   Column                Non-Null Count  Dtype \n",
      "---  ------                --------------  ----- \n",
      " 0   year                  20124 non-null  int64 \n",
      " 1   industry_code_ANZSIC  20124 non-null  object\n",
      " 2   industry_name_ANZSIC  20124 non-null  object\n",
      " 3   rme_size_grp          20124 non-null  object\n",
      " 4   variable              20124 non-null  object\n",
      " 5   value                 20124 non-null  object\n",
      " 6   unit                  20124 non-null  object\n",
      "dtypes: int64(1), object(6)\n",
      "memory usage: 1.1+ MB\n",
      "None\n"
     ]
    }
   ],
   "source": [
    "print(df_CSV.info())"
   ]
  },
  {
   "cell_type": "code",
   "execution_count": 5,
   "id": "1556085a-e7ad-4a15-83f7-b516c239bc2b",
   "metadata": {},
   "outputs": [
    {
     "name": "stdout",
     "output_type": "stream",
     "text": [
      "              year\n",
      "count  20124.00000\n",
      "mean    2017.00000\n",
      "std        3.74175\n",
      "min     2011.00000\n",
      "25%     2014.00000\n",
      "50%     2017.00000\n",
      "75%     2020.00000\n",
      "max     2023.00000\n"
     ]
    }
   ],
   "source": [
    "print(df_CSV.describe())"
   ]
  },
  {
   "cell_type": "code",
   "execution_count": 6,
   "id": "70a918ab-b121-4149-9064-771f65dbc53e",
   "metadata": {},
   "outputs": [
    {
     "name": "stdout",
     "output_type": "stream",
     "text": [
      "(20124, 7)\n"
     ]
    }
   ],
   "source": [
    "print(df_CSV.shape)"
   ]
  },
  {
   "cell_type": "code",
   "execution_count": 7,
   "id": "1fddb918-6cbd-4d8c-a028-e019dde447e8",
   "metadata": {},
   "outputs": [
    {
     "name": "stdout",
     "output_type": "stream",
     "text": [
      "Order ID         0\n",
      "Order Date       0\n",
      "Ship Date        0\n",
      "Status           0\n",
      "Customer Name    0\n",
      "Country          0\n",
      "City             0\n",
      "State            0\n",
      "Category         0\n",
      "Product Name     0\n",
      "Sales            0\n",
      "Quantity         0\n",
      "Profit           0\n",
      "dtype: int64\n"
     ]
    }
   ],
   "source": [
    "print(df_Xlsx.isnull().sum())"
   ]
  },
  {
   "cell_type": "code",
   "execution_count": null,
   "id": "b17598bd-b464-491d-851b-e3f4c469602b",
   "metadata": {},
   "outputs": [],
   "source": [
    "print(df_Xlsx[\"Order ID\"].duplicated().sum())"
   ]
  },
  {
   "cell_type": "code",
   "execution_count": 9,
   "id": "c6579011-b35c-4641-ada2-37e408839653",
   "metadata": {},
   "outputs": [
    {
     "name": "stdout",
     "output_type": "stream",
     "text": [
      "0\n"
     ]
    }
   ],
   "source": [
    "print(df_CSV[\"value\"].isnull().sum())"
   ]
  },
  {
   "cell_type": "code",
   "execution_count": 10,
   "id": "f7e02afb",
   "metadata": {},
   "outputs": [
    {
     "data": {
      "text/html": [
       "<div>\n",
       "<style scoped>\n",
       "    .dataframe tbody tr th:only-of-type {\n",
       "        vertical-align: middle;\n",
       "    }\n",
       "\n",
       "    .dataframe tbody tr th {\n",
       "        vertical-align: top;\n",
       "    }\n",
       "\n",
       "    .dataframe thead th {\n",
       "        text-align: right;\n",
       "    }\n",
       "</style>\n",
       "<table border=\"1\" class=\"dataframe\">\n",
       "  <thead>\n",
       "    <tr style=\"text-align: right;\">\n",
       "      <th></th>\n",
       "      <th>year</th>\n",
       "      <th>industry_code_ANZSIC</th>\n",
       "      <th>industry_name_ANZSIC</th>\n",
       "      <th>rme_size_grp</th>\n",
       "      <th>variable</th>\n",
       "      <th>value</th>\n",
       "      <th>unit</th>\n",
       "    </tr>\n",
       "  </thead>\n",
       "  <tbody>\n",
       "    <tr>\n",
       "      <th>0</th>\n",
       "      <td>2011</td>\n",
       "      <td>A</td>\n",
       "      <td>Agriculture, Forestry and Fishing</td>\n",
       "      <td>a_0</td>\n",
       "      <td>Activity unit</td>\n",
       "      <td>46134</td>\n",
       "      <td>COUNT</td>\n",
       "    </tr>\n",
       "    <tr>\n",
       "      <th>1</th>\n",
       "      <td>2011</td>\n",
       "      <td>A</td>\n",
       "      <td>Agriculture, Forestry and Fishing</td>\n",
       "      <td>a_0</td>\n",
       "      <td>Rolling mean employees</td>\n",
       "      <td>0</td>\n",
       "      <td>COUNT</td>\n",
       "    </tr>\n",
       "    <tr>\n",
       "      <th>2</th>\n",
       "      <td>2011</td>\n",
       "      <td>A</td>\n",
       "      <td>Agriculture, Forestry and Fishing</td>\n",
       "      <td>a_0</td>\n",
       "      <td>Salaries and wages paid</td>\n",
       "      <td>279</td>\n",
       "      <td>DOLLARS(millions)</td>\n",
       "    </tr>\n",
       "    <tr>\n",
       "      <th>3</th>\n",
       "      <td>2011</td>\n",
       "      <td>A</td>\n",
       "      <td>Agriculture, Forestry and Fishing</td>\n",
       "      <td>a_0</td>\n",
       "      <td>Sales, government funding, grants and subsidies</td>\n",
       "      <td>8187</td>\n",
       "      <td>DOLLARS(millions)</td>\n",
       "    </tr>\n",
       "    <tr>\n",
       "      <th>4</th>\n",
       "      <td>2011</td>\n",
       "      <td>A</td>\n",
       "      <td>Agriculture, Forestry and Fishing</td>\n",
       "      <td>a_0</td>\n",
       "      <td>Total income</td>\n",
       "      <td>8866</td>\n",
       "      <td>DOLLARS(millions)</td>\n",
       "    </tr>\n",
       "    <tr>\n",
       "      <th>...</th>\n",
       "      <td>...</td>\n",
       "      <td>...</td>\n",
       "      <td>...</td>\n",
       "      <td>...</td>\n",
       "      <td>...</td>\n",
       "      <td>...</td>\n",
       "      <td>...</td>\n",
       "    </tr>\n",
       "    <tr>\n",
       "      <th>20119</th>\n",
       "      <td>2023</td>\n",
       "      <td>all</td>\n",
       "      <td>All Industries</td>\n",
       "      <td>j_Grand_Total</td>\n",
       "      <td>Total income</td>\n",
       "      <td>930995</td>\n",
       "      <td>DOLLARS(millions)</td>\n",
       "    </tr>\n",
       "    <tr>\n",
       "      <th>20120</th>\n",
       "      <td>2023</td>\n",
       "      <td>all</td>\n",
       "      <td>All Industries</td>\n",
       "      <td>j_Grand_Total</td>\n",
       "      <td>Total expenditure</td>\n",
       "      <td>832964</td>\n",
       "      <td>DOLLARS(millions)</td>\n",
       "    </tr>\n",
       "    <tr>\n",
       "      <th>20121</th>\n",
       "      <td>2023</td>\n",
       "      <td>all</td>\n",
       "      <td>All Industries</td>\n",
       "      <td>j_Grand_Total</td>\n",
       "      <td>Operating profit before tax</td>\n",
       "      <td>103616</td>\n",
       "      <td>DOLLARS(millions)</td>\n",
       "    </tr>\n",
       "    <tr>\n",
       "      <th>20122</th>\n",
       "      <td>2023</td>\n",
       "      <td>all</td>\n",
       "      <td>All Industries</td>\n",
       "      <td>j_Grand_Total</td>\n",
       "      <td>Total assets</td>\n",
       "      <td>2831894</td>\n",
       "      <td>DOLLARS(millions)</td>\n",
       "    </tr>\n",
       "    <tr>\n",
       "      <th>20123</th>\n",
       "      <td>2023</td>\n",
       "      <td>all</td>\n",
       "      <td>All Industries</td>\n",
       "      <td>j_Grand_Total</td>\n",
       "      <td>Fixed tangible assets</td>\n",
       "      <td>681890</td>\n",
       "      <td>DOLLARS(millions)</td>\n",
       "    </tr>\n",
       "  </tbody>\n",
       "</table>\n",
       "<p>20124 rows × 7 columns</p>\n",
       "</div>"
      ],
      "text/plain": [
       "       year industry_code_ANZSIC               industry_name_ANZSIC  \\\n",
       "0      2011                    A  Agriculture, Forestry and Fishing   \n",
       "1      2011                    A  Agriculture, Forestry and Fishing   \n",
       "2      2011                    A  Agriculture, Forestry and Fishing   \n",
       "3      2011                    A  Agriculture, Forestry and Fishing   \n",
       "4      2011                    A  Agriculture, Forestry and Fishing   \n",
       "...     ...                  ...                                ...   \n",
       "20119  2023                  all                     All Industries   \n",
       "20120  2023                  all                     All Industries   \n",
       "20121  2023                  all                     All Industries   \n",
       "20122  2023                  all                     All Industries   \n",
       "20123  2023                  all                     All Industries   \n",
       "\n",
       "        rme_size_grp                                         variable  \\\n",
       "0                a_0                                    Activity unit   \n",
       "1                a_0                           Rolling mean employees   \n",
       "2                a_0                          Salaries and wages paid   \n",
       "3                a_0  Sales, government funding, grants and subsidies   \n",
       "4                a_0                                     Total income   \n",
       "...              ...                                              ...   \n",
       "20119  j_Grand_Total                                     Total income   \n",
       "20120  j_Grand_Total                                Total expenditure   \n",
       "20121  j_Grand_Total                      Operating profit before tax   \n",
       "20122  j_Grand_Total                                     Total assets   \n",
       "20123  j_Grand_Total                            Fixed tangible assets   \n",
       "\n",
       "         value               unit  \n",
       "0        46134              COUNT  \n",
       "1            0              COUNT  \n",
       "2          279  DOLLARS(millions)  \n",
       "3         8187  DOLLARS(millions)  \n",
       "4         8866  DOLLARS(millions)  \n",
       "...        ...                ...  \n",
       "20119   930995  DOLLARS(millions)  \n",
       "20120   832964  DOLLARS(millions)  \n",
       "20121   103616  DOLLARS(millions)  \n",
       "20122  2831894  DOLLARS(millions)  \n",
       "20123   681890  DOLLARS(millions)  \n",
       "\n",
       "[20124 rows x 7 columns]"
      ]
     },
     "execution_count": 10,
     "metadata": {},
     "output_type": "execute_result"
    }
   ],
   "source": [
    "df_CSV.drop_duplicates()"
   ]
  },
  {
   "cell_type": "code",
   "execution_count": 11,
   "id": "f51e7c28",
   "metadata": {},
   "outputs": [
    {
     "data": {
      "text/plain": [
       "(20124, 7)"
      ]
     },
     "execution_count": 11,
     "metadata": {},
     "output_type": "execute_result"
    }
   ],
   "source": [
    "df_CSV.shape"
   ]
  }
 ],
 "metadata": {
  "kernelspec": {
   "display_name": "myenv",
   "language": "python",
   "name": "python3"
  },
  "language_info": {
   "codemirror_mode": {
    "name": "ipython",
    "version": 3
   },
   "file_extension": ".py",
   "mimetype": "text/x-python",
   "name": "python",
   "nbconvert_exporter": "python",
   "pygments_lexer": "ipython3",
   "version": "3.12.8"
  }
 },
 "nbformat": 4,
 "nbformat_minor": 5
}
