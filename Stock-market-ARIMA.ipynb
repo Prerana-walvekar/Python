{
 "cells": [
  {
   "cell_type": "code",
   "execution_count": 3,
   "metadata": {},
   "outputs": [],
   "source": [
    "import pandas as pd, numpy as np, matplotlib.pyplot as plt, seaborn as sns\n",
    "import yfinance as yf\n",
    "import datetime as dt\n",
    "from datetime import date , timedelta"
   ]
  },
  {
   "cell_type": "code",
   "execution_count": 14,
   "metadata": {},
   "outputs": [
    {
     "name": "stdout",
     "output_type": "stream",
     "text": [
      "Start Date: 2023-12-10  End Date: 2024-12-09\n"
     ]
    }
   ],
   "source": [
    "end_date = date.today().strftime(\"%Y-%m-%d\")\n",
    "start_date = (date.today()-timedelta(days=365)).strftime(\"%Y-%m-%d\")\n",
    "print(\"Start Date:\",start_date,\" End Date:\",end_date)"
   ]
  },
  {
   "cell_type": "code",
   "execution_count": 16,
   "metadata": {},
   "outputs": [
    {
     "name": "stderr",
     "output_type": "stream",
     "text": [
      "[*********************100%***********************]  1 of 1 completed\n"
     ]
    },
    {
     "data": {
      "text/html": [
       "<div>\n",
       "<style scoped>\n",
       "    .dataframe tbody tr th:only-of-type {\n",
       "        vertical-align: middle;\n",
       "    }\n",
       "\n",
       "    .dataframe tbody tr th {\n",
       "        vertical-align: top;\n",
       "    }\n",
       "\n",
       "    .dataframe thead tr th {\n",
       "        text-align: left;\n",
       "    }\n",
       "\n",
       "    .dataframe thead tr:last-of-type th {\n",
       "        text-align: right;\n",
       "    }\n",
       "</style>\n",
       "<table border=\"1\" class=\"dataframe\">\n",
       "  <thead>\n",
       "    <tr>\n",
       "      <th>Price</th>\n",
       "      <th>Adj Close</th>\n",
       "      <th>Close</th>\n",
       "      <th>High</th>\n",
       "      <th>Low</th>\n",
       "      <th>Open</th>\n",
       "      <th>Volume</th>\n",
       "    </tr>\n",
       "    <tr>\n",
       "      <th>Ticker</th>\n",
       "      <th>GOOGL</th>\n",
       "      <th>GOOGL</th>\n",
       "      <th>GOOGL</th>\n",
       "      <th>GOOGL</th>\n",
       "      <th>GOOGL</th>\n",
       "      <th>GOOGL</th>\n",
       "    </tr>\n",
       "    <tr>\n",
       "      <th>Date</th>\n",
       "      <th></th>\n",
       "      <th></th>\n",
       "      <th></th>\n",
       "      <th></th>\n",
       "      <th></th>\n",
       "      <th></th>\n",
       "    </tr>\n",
       "  </thead>\n",
       "  <tbody>\n",
       "    <tr>\n",
       "      <th>2023-12-11</th>\n",
       "      <td>132.960754</td>\n",
       "      <td>133.289993</td>\n",
       "      <td>133.339996</td>\n",
       "      <td>131.360001</td>\n",
       "      <td>132.380005</td>\n",
       "      <td>31138000</td>\n",
       "    </tr>\n",
       "    <tr>\n",
       "      <th>2023-12-12</th>\n",
       "      <td>132.192673</td>\n",
       "      <td>132.520004</td>\n",
       "      <td>133.000000</td>\n",
       "      <td>131.259995</td>\n",
       "      <td>131.809998</td>\n",
       "      <td>29032800</td>\n",
       "    </tr>\n",
       "    <tr>\n",
       "      <th>2023-12-13</th>\n",
       "      <td>132.242554</td>\n",
       "      <td>132.570007</td>\n",
       "      <td>133.500000</td>\n",
       "      <td>131.570007</td>\n",
       "      <td>133.380005</td>\n",
       "      <td>30104800</td>\n",
       "    </tr>\n",
       "    <tr>\n",
       "      <th>2023-12-14</th>\n",
       "      <td>131.614090</td>\n",
       "      <td>131.940002</td>\n",
       "      <td>133.720001</td>\n",
       "      <td>129.690002</td>\n",
       "      <td>133.380005</td>\n",
       "      <td>38722400</td>\n",
       "    </tr>\n",
       "    <tr>\n",
       "      <th>2023-12-15</th>\n",
       "      <td>132.272476</td>\n",
       "      <td>132.600006</td>\n",
       "      <td>133.509995</td>\n",
       "      <td>131.179993</td>\n",
       "      <td>131.619995</td>\n",
       "      <td>50815200</td>\n",
       "    </tr>\n",
       "  </tbody>\n",
       "</table>\n",
       "</div>"
      ],
      "text/plain": [
       "Price        Adj Close       Close        High         Low        Open  \\\n",
       "Ticker           GOOGL       GOOGL       GOOGL       GOOGL       GOOGL   \n",
       "Date                                                                     \n",
       "2023-12-11  132.960754  133.289993  133.339996  131.360001  132.380005   \n",
       "2023-12-12  132.192673  132.520004  133.000000  131.259995  131.809998   \n",
       "2023-12-13  132.242554  132.570007  133.500000  131.570007  133.380005   \n",
       "2023-12-14  131.614090  131.940002  133.720001  129.690002  133.380005   \n",
       "2023-12-15  132.272476  132.600006  133.509995  131.179993  131.619995   \n",
       "\n",
       "Price         Volume  \n",
       "Ticker         GOOGL  \n",
       "Date                  \n",
       "2023-12-11  31138000  \n",
       "2023-12-12  29032800  \n",
       "2023-12-13  30104800  \n",
       "2023-12-14  38722400  \n",
       "2023-12-15  50815200  "
      ]
     },
     "execution_count": 16,
     "metadata": {},
     "output_type": "execute_result"
    }
   ],
   "source": [
    "ticker = \"GOOGL\"\n",
    "\n",
    "df = yf.download(ticker,start=start_date,end=end_date)\n",
    "df.head()"
   ]
  }
 ],
 "metadata": {
  "kernelspec": {
   "display_name": "myenv",
   "language": "python",
   "name": "python3"
  },
  "language_info": {
   "codemirror_mode": {
    "name": "ipython",
    "version": 3
   },
   "file_extension": ".py",
   "mimetype": "text/x-python",
   "name": "python",
   "nbconvert_exporter": "python",
   "pygments_lexer": "ipython3",
   "version": "3.12.8"
  }
 },
 "nbformat": 4,
 "nbformat_minor": 2
}
