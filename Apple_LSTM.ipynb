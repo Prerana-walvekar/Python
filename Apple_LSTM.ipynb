{
  "cells": [
    {
      "cell_type": "markdown",
      "metadata": {
        "id": "fdVZvkW3oHwN"
      },
      "source": [
        "**1. Dataset Loading**"
      ]
    },
    {
      "cell_type": "code",
      "execution_count": 164,
      "metadata": {
        "id": "efXgVM_z34_e"
      },
      "outputs": [],
      "source": [
        "#importing the libraries\n",
        "import numpy as np\n",
        "import pandas as pd\n",
        "from tensorflow import keras\n",
        "import matplotlib.pyplot as plt\n",
        "import yfinance as yf\n",
        "from sklearn.preprocessing import MinMaxScaler\n",
        "from sklearn.model_selection import train_test_split\n",
        "from tensorflow.keras.callbacks import EarlyStopping"
      ]
    },
    {
      "cell_type": "code",
      "execution_count": 165,
      "metadata": {},
      "outputs": [
        {
          "data": {
            "text/plain": [
              "('2023-12-1', '2024-12-1')"
            ]
          },
          "execution_count": 165,
          "metadata": {},
          "output_type": "execute_result"
        }
      ],
      "source": [
        "start_date = '2023-12-1'\n",
        "end_date = '2024-12-1'\n",
        "start_date , end_date"
      ]
    },
    {
      "cell_type": "code",
      "execution_count": 166,
      "metadata": {},
      "outputs": [
        {
          "name": "stderr",
          "output_type": "stream",
          "text": [
            "[*********************100%***********************]  1 of 1 completed"
          ]
        },
        {
          "name": "stderr",
          "output_type": "stream",
          "text": [
            "\n"
          ]
        },
        {
          "data": {
            "text/html": [
              "<div>\n",
              "<style scoped>\n",
              "    .dataframe tbody tr th:only-of-type {\n",
              "        vertical-align: middle;\n",
              "    }\n",
              "\n",
              "    .dataframe tbody tr th {\n",
              "        vertical-align: top;\n",
              "    }\n",
              "\n",
              "    .dataframe thead tr th {\n",
              "        text-align: left;\n",
              "    }\n",
              "\n",
              "    .dataframe thead tr:last-of-type th {\n",
              "        text-align: right;\n",
              "    }\n",
              "</style>\n",
              "<table border=\"1\" class=\"dataframe\">\n",
              "  <thead>\n",
              "    <tr>\n",
              "      <th>Price</th>\n",
              "      <th>Adj Close</th>\n",
              "      <th>Close</th>\n",
              "      <th>High</th>\n",
              "      <th>Low</th>\n",
              "      <th>Open</th>\n",
              "      <th>Volume</th>\n",
              "    </tr>\n",
              "    <tr>\n",
              "      <th>Ticker</th>\n",
              "      <th>AAPL</th>\n",
              "      <th>AAPL</th>\n",
              "      <th>AAPL</th>\n",
              "      <th>AAPL</th>\n",
              "      <th>AAPL</th>\n",
              "      <th>AAPL</th>\n",
              "    </tr>\n",
              "    <tr>\n",
              "      <th>Date</th>\n",
              "      <th></th>\n",
              "      <th></th>\n",
              "      <th></th>\n",
              "      <th></th>\n",
              "      <th></th>\n",
              "      <th></th>\n",
              "    </tr>\n",
              "  </thead>\n",
              "  <tbody>\n",
              "    <tr>\n",
              "      <th>2023-12-01</th>\n",
              "      <td>190.307693</td>\n",
              "      <td>191.240005</td>\n",
              "      <td>191.559998</td>\n",
              "      <td>189.229996</td>\n",
              "      <td>190.330002</td>\n",
              "      <td>45679300</td>\n",
              "    </tr>\n",
              "    <tr>\n",
              "      <th>2023-12-04</th>\n",
              "      <td>188.506500</td>\n",
              "      <td>189.429993</td>\n",
              "      <td>190.050003</td>\n",
              "      <td>187.449997</td>\n",
              "      <td>189.979996</td>\n",
              "      <td>43389500</td>\n",
              "    </tr>\n",
              "    <tr>\n",
              "      <th>2023-12-05</th>\n",
              "      <td>192.477051</td>\n",
              "      <td>193.419998</td>\n",
              "      <td>194.399994</td>\n",
              "      <td>190.179993</td>\n",
              "      <td>190.210007</td>\n",
              "      <td>66628400</td>\n",
              "    </tr>\n",
              "    <tr>\n",
              "      <th>2023-12-06</th>\n",
              "      <td>191.382431</td>\n",
              "      <td>192.320007</td>\n",
              "      <td>194.759995</td>\n",
              "      <td>192.110001</td>\n",
              "      <td>194.449997</td>\n",
              "      <td>41089700</td>\n",
              "    </tr>\n",
              "    <tr>\n",
              "      <th>2023-12-07</th>\n",
              "      <td>193.322922</td>\n",
              "      <td>194.270004</td>\n",
              "      <td>195.000000</td>\n",
              "      <td>193.589996</td>\n",
              "      <td>193.630005</td>\n",
              "      <td>47477700</td>\n",
              "    </tr>\n",
              "    <tr>\n",
              "      <th>...</th>\n",
              "      <td>...</td>\n",
              "      <td>...</td>\n",
              "      <td>...</td>\n",
              "      <td>...</td>\n",
              "      <td>...</td>\n",
              "      <td>...</td>\n",
              "    </tr>\n",
              "    <tr>\n",
              "      <th>2024-11-22</th>\n",
              "      <td>229.869995</td>\n",
              "      <td>229.869995</td>\n",
              "      <td>230.720001</td>\n",
              "      <td>228.059998</td>\n",
              "      <td>228.059998</td>\n",
              "      <td>38168300</td>\n",
              "    </tr>\n",
              "    <tr>\n",
              "      <th>2024-11-25</th>\n",
              "      <td>232.869995</td>\n",
              "      <td>232.869995</td>\n",
              "      <td>233.250000</td>\n",
              "      <td>229.740005</td>\n",
              "      <td>231.460007</td>\n",
              "      <td>90152800</td>\n",
              "    </tr>\n",
              "    <tr>\n",
              "      <th>2024-11-26</th>\n",
              "      <td>235.059998</td>\n",
              "      <td>235.059998</td>\n",
              "      <td>235.570007</td>\n",
              "      <td>233.330002</td>\n",
              "      <td>233.330002</td>\n",
              "      <td>45986200</td>\n",
              "    </tr>\n",
              "    <tr>\n",
              "      <th>2024-11-27</th>\n",
              "      <td>234.929993</td>\n",
              "      <td>234.929993</td>\n",
              "      <td>235.690002</td>\n",
              "      <td>233.809998</td>\n",
              "      <td>234.470001</td>\n",
              "      <td>33498400</td>\n",
              "    </tr>\n",
              "    <tr>\n",
              "      <th>2024-11-29</th>\n",
              "      <td>237.330002</td>\n",
              "      <td>237.330002</td>\n",
              "      <td>237.809998</td>\n",
              "      <td>233.970001</td>\n",
              "      <td>234.809998</td>\n",
              "      <td>28481400</td>\n",
              "    </tr>\n",
              "  </tbody>\n",
              "</table>\n",
              "<p>251 rows × 6 columns</p>\n",
              "</div>"
            ],
            "text/plain": [
              "Price        Adj Close       Close        High         Low        Open  \\\n",
              "Ticker            AAPL        AAPL        AAPL        AAPL        AAPL   \n",
              "Date                                                                     \n",
              "2023-12-01  190.307693  191.240005  191.559998  189.229996  190.330002   \n",
              "2023-12-04  188.506500  189.429993  190.050003  187.449997  189.979996   \n",
              "2023-12-05  192.477051  193.419998  194.399994  190.179993  190.210007   \n",
              "2023-12-06  191.382431  192.320007  194.759995  192.110001  194.449997   \n",
              "2023-12-07  193.322922  194.270004  195.000000  193.589996  193.630005   \n",
              "...                ...         ...         ...         ...         ...   \n",
              "2024-11-22  229.869995  229.869995  230.720001  228.059998  228.059998   \n",
              "2024-11-25  232.869995  232.869995  233.250000  229.740005  231.460007   \n",
              "2024-11-26  235.059998  235.059998  235.570007  233.330002  233.330002   \n",
              "2024-11-27  234.929993  234.929993  235.690002  233.809998  234.470001   \n",
              "2024-11-29  237.330002  237.330002  237.809998  233.970001  234.809998   \n",
              "\n",
              "Price         Volume  \n",
              "Ticker          AAPL  \n",
              "Date                  \n",
              "2023-12-01  45679300  \n",
              "2023-12-04  43389500  \n",
              "2023-12-05  66628400  \n",
              "2023-12-06  41089700  \n",
              "2023-12-07  47477700  \n",
              "...              ...  \n",
              "2024-11-22  38168300  \n",
              "2024-11-25  90152800  \n",
              "2024-11-26  45986200  \n",
              "2024-11-27  33498400  \n",
              "2024-11-29  28481400  \n",
              "\n",
              "[251 rows x 6 columns]"
            ]
          },
          "execution_count": 166,
          "metadata": {},
          "output_type": "execute_result"
        }
      ],
      "source": [
        "df = yf.download(tickers='AAPL',start=start_date, end=end_date)\n",
        "df"
      ]
    },
    {
      "cell_type": "code",
      "execution_count": 167,
      "metadata": {
        "colab": {
          "base_uri": "https://localhost:8080/"
        },
        "id": "wdlxu0-H46TC",
        "outputId": "e64f3584-2db7-4aa1-a9ef-a3e442caa9b5"
      },
      "outputs": [
        {
          "data": {
            "text/plain": [
              "(251, 6)"
            ]
          },
          "execution_count": 167,
          "metadata": {},
          "output_type": "execute_result"
        }
      ],
      "source": [
        "df.shape"
      ]
    },
    {
      "cell_type": "code",
      "execution_count": 168,
      "metadata": {
        "colab": {
          "base_uri": "https://localhost:8080/",
          "height": 206
        },
        "id": "kZo7C6Iv47m1",
        "outputId": "4c611f62-4e39-4ebf-9d80-10e261b8740b"
      },
      "outputs": [
        {
          "data": {
            "text/html": [
              "<div>\n",
              "<style scoped>\n",
              "    .dataframe tbody tr th:only-of-type {\n",
              "        vertical-align: middle;\n",
              "    }\n",
              "\n",
              "    .dataframe tbody tr th {\n",
              "        vertical-align: top;\n",
              "    }\n",
              "\n",
              "    .dataframe thead tr th {\n",
              "        text-align: left;\n",
              "    }\n",
              "\n",
              "    .dataframe thead tr:last-of-type th {\n",
              "        text-align: right;\n",
              "    }\n",
              "</style>\n",
              "<table border=\"1\" class=\"dataframe\">\n",
              "  <thead>\n",
              "    <tr>\n",
              "      <th>Price</th>\n",
              "      <th>Adj Close</th>\n",
              "      <th>Close</th>\n",
              "      <th>High</th>\n",
              "      <th>Low</th>\n",
              "      <th>Open</th>\n",
              "      <th>Volume</th>\n",
              "    </tr>\n",
              "    <tr>\n",
              "      <th>Ticker</th>\n",
              "      <th>AAPL</th>\n",
              "      <th>AAPL</th>\n",
              "      <th>AAPL</th>\n",
              "      <th>AAPL</th>\n",
              "      <th>AAPL</th>\n",
              "      <th>AAPL</th>\n",
              "    </tr>\n",
              "    <tr>\n",
              "      <th>Date</th>\n",
              "      <th></th>\n",
              "      <th></th>\n",
              "      <th></th>\n",
              "      <th></th>\n",
              "      <th></th>\n",
              "      <th></th>\n",
              "    </tr>\n",
              "  </thead>\n",
              "  <tbody>\n",
              "    <tr>\n",
              "      <th>2023-12-01</th>\n",
              "      <td>190.307693</td>\n",
              "      <td>191.240005</td>\n",
              "      <td>191.559998</td>\n",
              "      <td>189.229996</td>\n",
              "      <td>190.330002</td>\n",
              "      <td>45679300</td>\n",
              "    </tr>\n",
              "    <tr>\n",
              "      <th>2023-12-04</th>\n",
              "      <td>188.506500</td>\n",
              "      <td>189.429993</td>\n",
              "      <td>190.050003</td>\n",
              "      <td>187.449997</td>\n",
              "      <td>189.979996</td>\n",
              "      <td>43389500</td>\n",
              "    </tr>\n",
              "    <tr>\n",
              "      <th>2023-12-05</th>\n",
              "      <td>192.477051</td>\n",
              "      <td>193.419998</td>\n",
              "      <td>194.399994</td>\n",
              "      <td>190.179993</td>\n",
              "      <td>190.210007</td>\n",
              "      <td>66628400</td>\n",
              "    </tr>\n",
              "    <tr>\n",
              "      <th>2023-12-06</th>\n",
              "      <td>191.382431</td>\n",
              "      <td>192.320007</td>\n",
              "      <td>194.759995</td>\n",
              "      <td>192.110001</td>\n",
              "      <td>194.449997</td>\n",
              "      <td>41089700</td>\n",
              "    </tr>\n",
              "    <tr>\n",
              "      <th>2023-12-07</th>\n",
              "      <td>193.322922</td>\n",
              "      <td>194.270004</td>\n",
              "      <td>195.000000</td>\n",
              "      <td>193.589996</td>\n",
              "      <td>193.630005</td>\n",
              "      <td>47477700</td>\n",
              "    </tr>\n",
              "  </tbody>\n",
              "</table>\n",
              "</div>"
            ],
            "text/plain": [
              "Price        Adj Close       Close        High         Low        Open  \\\n",
              "Ticker            AAPL        AAPL        AAPL        AAPL        AAPL   \n",
              "Date                                                                     \n",
              "2023-12-01  190.307693  191.240005  191.559998  189.229996  190.330002   \n",
              "2023-12-04  188.506500  189.429993  190.050003  187.449997  189.979996   \n",
              "2023-12-05  192.477051  193.419998  194.399994  190.179993  190.210007   \n",
              "2023-12-06  191.382431  192.320007  194.759995  192.110001  194.449997   \n",
              "2023-12-07  193.322922  194.270004  195.000000  193.589996  193.630005   \n",
              "\n",
              "Price         Volume  \n",
              "Ticker          AAPL  \n",
              "Date                  \n",
              "2023-12-01  45679300  \n",
              "2023-12-04  43389500  \n",
              "2023-12-05  66628400  \n",
              "2023-12-06  41089700  \n",
              "2023-12-07  47477700  "
            ]
          },
          "execution_count": 168,
          "metadata": {},
          "output_type": "execute_result"
        }
      ],
      "source": [
        "df.head()"
      ]
    },
    {
      "cell_type": "code",
      "execution_count": 169,
      "metadata": {},
      "outputs": [
        {
          "data": {
            "text/html": [
              "<div>\n",
              "<style scoped>\n",
              "    .dataframe tbody tr th:only-of-type {\n",
              "        vertical-align: middle;\n",
              "    }\n",
              "\n",
              "    .dataframe tbody tr th {\n",
              "        vertical-align: top;\n",
              "    }\n",
              "\n",
              "    .dataframe thead th {\n",
              "        text-align: right;\n",
              "    }\n",
              "</style>\n",
              "<table border=\"1\" class=\"dataframe\">\n",
              "  <thead>\n",
              "    <tr style=\"text-align: right;\">\n",
              "      <th>Ticker</th>\n",
              "      <th>AAPL</th>\n",
              "    </tr>\n",
              "  </thead>\n",
              "  <tbody>\n",
              "    <tr>\n",
              "      <th>0</th>\n",
              "      <td>191.240005</td>\n",
              "    </tr>\n",
              "    <tr>\n",
              "      <th>1</th>\n",
              "      <td>189.429993</td>\n",
              "    </tr>\n",
              "    <tr>\n",
              "      <th>2</th>\n",
              "      <td>193.419998</td>\n",
              "    </tr>\n",
              "    <tr>\n",
              "      <th>3</th>\n",
              "      <td>192.320007</td>\n",
              "    </tr>\n",
              "    <tr>\n",
              "      <th>4</th>\n",
              "      <td>194.270004</td>\n",
              "    </tr>\n",
              "    <tr>\n",
              "      <th>...</th>\n",
              "      <td>...</td>\n",
              "    </tr>\n",
              "    <tr>\n",
              "      <th>246</th>\n",
              "      <td>229.869995</td>\n",
              "    </tr>\n",
              "    <tr>\n",
              "      <th>247</th>\n",
              "      <td>232.869995</td>\n",
              "    </tr>\n",
              "    <tr>\n",
              "      <th>248</th>\n",
              "      <td>235.059998</td>\n",
              "    </tr>\n",
              "    <tr>\n",
              "      <th>249</th>\n",
              "      <td>234.929993</td>\n",
              "    </tr>\n",
              "    <tr>\n",
              "      <th>250</th>\n",
              "      <td>237.330002</td>\n",
              "    </tr>\n",
              "  </tbody>\n",
              "</table>\n",
              "<p>251 rows × 1 columns</p>\n",
              "</div>"
            ],
            "text/plain": [
              "Ticker        AAPL\n",
              "0       191.240005\n",
              "1       189.429993\n",
              "2       193.419998\n",
              "3       192.320007\n",
              "4       194.270004\n",
              "..             ...\n",
              "246     229.869995\n",
              "247     232.869995\n",
              "248     235.059998\n",
              "249     234.929993\n",
              "250     237.330002\n",
              "\n",
              "[251 rows x 1 columns]"
            ]
          },
          "execution_count": 169,
          "metadata": {},
          "output_type": "execute_result"
        }
      ],
      "source": [
        "apple_df = df.reset_index()['Close']\n",
        "apple_df"
      ]
    },
    {
      "cell_type": "markdown",
      "metadata": {
        "id": "YcQlHO26oKM9"
      },
      "source": [
        "**2. Data Pre-Processing**"
      ]
    },
    {
      "cell_type": "code",
      "execution_count": 170,
      "metadata": {
        "colab": {
          "base_uri": "https://localhost:8080/",
          "height": 304
        },
        "id": "5QqbRRJ_5AUK",
        "outputId": "ff13b04f-3b69-45f1-b533-b6e439d310d0"
      },
      "outputs": [
        {
          "data": {
            "text/plain": [
              "Ticker\n",
              "AAPL    0\n",
              "dtype: int64"
            ]
          },
          "execution_count": 170,
          "metadata": {},
          "output_type": "execute_result"
        }
      ],
      "source": [
        "#checking for null values\n",
        "apple_df.isna().sum()"
      ]
    },
    {
      "cell_type": "code",
      "execution_count": 171,
      "metadata": {
        "colab": {
          "base_uri": "https://localhost:8080/"
        },
        "id": "nFII6twDoXiQ",
        "outputId": "5b17cbd8-fcc6-4b36-a6c9-9831090bd9ec"
      },
      "outputs": [
        {
          "name": "stdout",
          "output_type": "stream",
          "text": [
            "<class 'pandas.core.frame.DataFrame'>\n",
            "RangeIndex: 251 entries, 0 to 250\n",
            "Data columns (total 1 columns):\n",
            " #   Column  Non-Null Count  Dtype  \n",
            "---  ------  --------------  -----  \n",
            " 0   AAPL    251 non-null    float64\n",
            "dtypes: float64(1)\n",
            "memory usage: 2.1 KB\n"
          ]
        }
      ],
      "source": [
        "apple_df.info()"
      ]
    },
    {
      "cell_type": "code",
      "execution_count": 172,
      "metadata": {},
      "outputs": [],
      "source": [
        "apple_df.rename(columns={'AAPL': 'Close'}, inplace=True)\n"
      ]
    },
    {
      "cell_type": "code",
      "execution_count": 173,
      "metadata": {
        "id": "AXXw9C6do_6d"
      },
      "outputs": [],
      "source": [
        "#sort the indexes\n",
        "apple_df.sort_index(inplace = True)"
      ]
    },
    {
      "cell_type": "code",
      "execution_count": 174,
      "metadata": {
        "colab": {
          "base_uri": "https://localhost:8080/",
          "height": 238
        },
        "id": "s2Tadg9po4NS",
        "outputId": "121dc7eb-7f4c-4d83-b2bb-31e91247edbe"
      },
      "outputs": [
        {
          "data": {
            "text/html": [
              "<div>\n",
              "<style scoped>\n",
              "    .dataframe tbody tr th:only-of-type {\n",
              "        vertical-align: middle;\n",
              "    }\n",
              "\n",
              "    .dataframe tbody tr th {\n",
              "        vertical-align: top;\n",
              "    }\n",
              "\n",
              "    .dataframe thead th {\n",
              "        text-align: right;\n",
              "    }\n",
              "</style>\n",
              "<table border=\"1\" class=\"dataframe\">\n",
              "  <thead>\n",
              "    <tr style=\"text-align: right;\">\n",
              "      <th>Ticker</th>\n",
              "      <th>Close</th>\n",
              "    </tr>\n",
              "  </thead>\n",
              "  <tbody>\n",
              "    <tr>\n",
              "      <th>0</th>\n",
              "      <td>191.240005</td>\n",
              "    </tr>\n",
              "    <tr>\n",
              "      <th>1</th>\n",
              "      <td>189.429993</td>\n",
              "    </tr>\n",
              "    <tr>\n",
              "      <th>2</th>\n",
              "      <td>193.419998</td>\n",
              "    </tr>\n",
              "    <tr>\n",
              "      <th>3</th>\n",
              "      <td>192.320007</td>\n",
              "    </tr>\n",
              "    <tr>\n",
              "      <th>4</th>\n",
              "      <td>194.270004</td>\n",
              "    </tr>\n",
              "  </tbody>\n",
              "</table>\n",
              "</div>"
            ],
            "text/plain": [
              "Ticker       Close\n",
              "0       191.240005\n",
              "1       189.429993\n",
              "2       193.419998\n",
              "3       192.320007\n",
              "4       194.270004"
            ]
          },
          "execution_count": 174,
          "metadata": {},
          "output_type": "execute_result"
        }
      ],
      "source": [
        "apple_df.head()"
      ]
    },
    {
      "cell_type": "code",
      "execution_count": 175,
      "metadata": {
        "id": "aNng7JW22RpD"
      },
      "outputs": [],
      "source": [
        "# Apply log transformation to CLOSE to stabilize variance\n",
        "apple_df['Close'] = np.log(apple_df['Close'])"
      ]
    },
    {
      "cell_type": "code",
      "execution_count": 176,
      "metadata": {
        "colab": {
          "base_uri": "https://localhost:8080/",
          "height": 238
        },
        "id": "_1wOcti52mfn",
        "outputId": "c8d0055a-0101-4211-f798-8b75406f3701"
      },
      "outputs": [
        {
          "data": {
            "text/html": [
              "<div>\n",
              "<style scoped>\n",
              "    .dataframe tbody tr th:only-of-type {\n",
              "        vertical-align: middle;\n",
              "    }\n",
              "\n",
              "    .dataframe tbody tr th {\n",
              "        vertical-align: top;\n",
              "    }\n",
              "\n",
              "    .dataframe thead th {\n",
              "        text-align: right;\n",
              "    }\n",
              "</style>\n",
              "<table border=\"1\" class=\"dataframe\">\n",
              "  <thead>\n",
              "    <tr style=\"text-align: right;\">\n",
              "      <th>Ticker</th>\n",
              "      <th>Close</th>\n",
              "    </tr>\n",
              "  </thead>\n",
              "  <tbody>\n",
              "    <tr>\n",
              "      <th>0</th>\n",
              "      <td>5.253529</td>\n",
              "    </tr>\n",
              "    <tr>\n",
              "      <th>1</th>\n",
              "      <td>5.244020</td>\n",
              "    </tr>\n",
              "    <tr>\n",
              "      <th>2</th>\n",
              "      <td>5.264864</td>\n",
              "    </tr>\n",
              "    <tr>\n",
              "      <th>3</th>\n",
              "      <td>5.259161</td>\n",
              "    </tr>\n",
              "    <tr>\n",
              "      <th>4</th>\n",
              "      <td>5.269249</td>\n",
              "    </tr>\n",
              "  </tbody>\n",
              "</table>\n",
              "</div>"
            ],
            "text/plain": [
              "Ticker     Close\n",
              "0       5.253529\n",
              "1       5.244020\n",
              "2       5.264864\n",
              "3       5.259161\n",
              "4       5.269249"
            ]
          },
          "execution_count": 176,
          "metadata": {},
          "output_type": "execute_result"
        }
      ],
      "source": [
        "apple_df.head()"
      ]
    },
    {
      "cell_type": "code",
      "execution_count": 177,
      "metadata": {
        "id": "7sQadpzoo8Zf"
      },
      "outputs": [],
      "source": [
        "scaler = MinMaxScaler()\n",
        "scaled_values = scaler.fit_transform(apple_df[apple_df.columns])"
      ]
    },
    {
      "cell_type": "code",
      "execution_count": 178,
      "metadata": {
        "colab": {
          "base_uri": "https://localhost:8080/"
        },
        "id": "ahNq_uSRpvN8",
        "outputId": "e6d72739-d817-4744-e5e0-a59a989f862d"
      },
      "outputs": [
        {
          "data": {
            "text/plain": [
              "array([[0.40600071],\n",
              "       [0.3798397 ],\n",
              "       [0.43718249],\n",
              "       [0.42149282],\n",
              "       [0.44924552],\n",
              "       [0.46956166],\n",
              "       [0.43376681],\n",
              "       [0.45546919],\n",
              "       [0.50100822],\n",
              "       [0.50309185],\n",
              "       [0.49558318],\n",
              "       [0.47209055],\n",
              "       [0.48679691],\n",
              "       [0.45716403],\n",
              "       [0.4550451 ],\n",
              "       [0.43974153],\n",
              "       [0.43191506],\n",
              "       [0.43333957],\n",
              "       [0.43945726],\n",
              "       [0.42449494],\n",
              "       [0.32424169],\n",
              "       [0.30356589],\n",
              "       [0.26840431],\n",
              "       [0.2573423 ],\n",
              "       [0.3230559 ],\n",
              "       [0.31682223],\n",
              "       [0.3323801 ],\n",
              "       [0.3235006 ],\n",
              "       [0.32838785],\n",
              "       [0.29429331],\n",
              "       [0.28002411],\n",
              "       [0.36819732],\n",
              "       [0.41059994],\n",
              "       [0.44385914],\n",
              "       [0.46210144],\n",
              "       [0.45250048],\n",
              "       [0.44782901],\n",
              "       [0.42292274],\n",
              "       [0.4130402 ],\n",
              "       [0.35957909],\n",
              "       [0.3058045 ],\n",
              "       [0.34226165],\n",
              "       [0.32735201],\n",
              "       [0.35430731],\n",
              "       [0.37795128],\n",
              "       [0.37954939],\n",
              "       [0.36367259],\n",
              "       [0.37140396],\n",
              "       [0.34652768],\n",
              "       [0.31533585],\n",
              "       [0.30207232],\n",
              "       [0.29773675],\n",
              "       [0.27444669],\n",
              "       [0.26310614],\n",
              "       [0.27459772],\n",
              "       [0.30535692],\n",
              "       [0.27761378],\n",
              "       [0.25703877],\n",
              "       [0.27927124],\n",
              "       [0.26098406],\n",
              "       [0.25080565],\n",
              "       [0.23416586],\n",
              "       [0.16344099],\n",
              "       [0.08406617],\n",
              "       [0.06784761],\n",
              "       [0.06589502],\n",
              "       [0.09391276],\n",
              "       [0.1262702 ],\n",
              "       [0.13390337],\n",
              "       [0.1003506 ],\n",
              "       [0.13024849],\n",
              "       [0.12419913],\n",
              "       [0.14167393],\n",
              "       [0.17879472],\n",
              "       [0.2189648 ],\n",
              "       [0.10420584],\n",
              "       [0.11877539],\n",
              "       [0.09584582],\n",
              "       [0.07742831],\n",
              "       [0.13517355],\n",
              "       [0.1059711 ],\n",
              "       [0.08261047],\n",
              "       [0.06328924],\n",
              "       [0.07645533],\n",
              "       [0.06296353],\n",
              "       [0.07532013],\n",
              "       [0.05692746],\n",
              "       [0.0767797 ],\n",
              "       [0.04596378],\n",
              "       [0.16249797],\n",
              "       [0.186128  ],\n",
              "       [0.12531459],\n",
              "       [0.0720738 ],\n",
              "       [0.04956865],\n",
              "       [0.03380353],\n",
              "       [0.        ],\n",
              "       [0.01396943],\n",
              "       [0.03149691],\n",
              "       [0.06622063],\n",
              "       [0.08034443],\n",
              "       [0.07077414],\n",
              "       [0.13818784],\n",
              "       [0.08746007],\n",
              "       [0.07077414],\n",
              "       [0.13072547],\n",
              "       [0.29054547],\n",
              "       [0.26537813],\n",
              "       [0.27580436],\n",
              "       [0.28092769],\n",
              "       [0.30833969],\n",
              "       [0.28559047],\n",
              "       [0.33370949],\n",
              "       [0.3506404 ],\n",
              "       [0.38404811],\n",
              "       [0.38578751],\n",
              "       [0.38622219],\n",
              "       [0.40312203],\n",
              "       [0.42192189],\n",
              "       [0.40110529],\n",
              "       [0.34255614],\n",
              "       [0.38781551],\n",
              "       [0.38796045],\n",
              "       [0.39230074],\n",
              "       [0.40671969],\n",
              "       [0.42049124],\n",
              "       [0.44584479],\n",
              "       [0.45037816],\n",
              "       [0.47180961],\n",
              "       [0.45221753],\n",
              "       [0.48609835],\n",
              "       [0.43291228],\n",
              "       [0.62584275],\n",
              "       [0.70335904],\n",
              "       [0.71842378],\n",
              "       [0.69586032],\n",
              "       [0.74945088],\n",
              "       [0.71906558],\n",
              "       [0.65923802],\n",
              "       [0.63035446],\n",
              "       [0.63895887],\n",
              "       [0.6512234 ],\n",
              "       [0.70568198],\n",
              "       [0.7166255 ],\n",
              "       [0.67154322],\n",
              "       [0.75046645],\n",
              "       [0.79478337],\n",
              "       [0.8107232 ],\n",
              "       [0.86956668],\n",
              "       [0.8874965 ],\n",
              "       [0.89786149],\n",
              "       [0.94910955],\n",
              "       [0.88447603],\n",
              "       [0.92014651],\n",
              "       [0.96582574],\n",
              "       [0.97075072],\n",
              "       [0.90026656],\n",
              "       [0.84318746],\n",
              "       [0.84478233],\n",
              "       [0.84048661],\n",
              "       [0.85335387],\n",
              "       [0.7730917 ],\n",
              "       [0.75984259],\n",
              "       [0.76578112],\n",
              "       [0.76931286],\n",
              "       [0.77636277],\n",
              "       [0.81729633],\n",
              "       [0.77082502],\n",
              "       [0.789658  ],\n",
              "       [0.65385374],\n",
              "       [0.62690498],\n",
              "       [0.66107439],\n",
              "       [0.70645586],\n",
              "       [0.74398599],\n",
              "       [0.76034841],\n",
              "       [0.80724426],\n",
              "       [0.81283326],\n",
              "       [0.84980611],\n",
              "       [0.86603978],\n",
              "       [0.86409188],\n",
              "       [0.8716321 ],\n",
              "       [0.87029581],\n",
              "       [0.84747915],\n",
              "       [0.87563709],\n",
              "       [0.87975728],\n",
              "       [0.89003103],\n",
              "       [0.87138932],\n",
              "       [0.91118233],\n",
              "       [0.90170844],\n",
              "       [0.82583039],\n",
              "       [0.80201758],\n",
              "       [0.82101007],\n",
              "       [0.80164388],\n",
              "       [0.80276483],\n",
              "       [0.79278433],\n",
              "       [0.82447166],\n",
              "       [0.82583039],\n",
              "       [0.82249409],\n",
              "       [0.74500358],\n",
              "       [0.750974  ],\n",
              "       [0.8000238 ],\n",
              "       [0.90014625],\n",
              "       [0.89208115],\n",
              "       [0.87114634],\n",
              "       [0.88205711],\n",
              "       [0.86993127],\n",
              "       [0.8838715 ],\n",
              "       [0.88713405],\n",
              "       [0.94934574],\n",
              "       [0.86798631],\n",
              "       [0.87490938],\n",
              "       [0.8614113 ],\n",
              "       [0.87515203],\n",
              "       [0.81246102],\n",
              "       [0.86263014],\n",
              "       [0.90818777],\n",
              "       [0.90218884],\n",
              "       [0.8842342 ],\n",
              "       [0.92920063],\n",
              "       [0.95936334],\n",
              "       [0.93490358],\n",
              "       [0.93929154],\n",
              "       [0.97285858],\n",
              "       [0.99012956],\n",
              "       [0.98290765],\n",
              "       [0.92277049],\n",
              "       [0.92050464],\n",
              "       [0.93050862],\n",
              "       [0.95406434],\n",
              "       [0.95724493],\n",
              "       [0.91489122],\n",
              "       [0.86433549],\n",
              "       [0.8275587 ],\n",
              "       [0.81642899],\n",
              "       [0.83421483],\n",
              "       [0.82521283],\n",
              "       [0.88338771],\n",
              "       [0.87709212],\n",
              "       [0.84380099],\n",
              "       [0.84380099],\n",
              "       [0.85469842],\n",
              "       [0.89232229],\n",
              "       [0.85323167],\n",
              "       [0.88991046],\n",
              "       [0.89304542],\n",
              "       [0.90170844],\n",
              "       [0.89593618],\n",
              "       [0.91213992],\n",
              "       [0.94781037],\n",
              "       [0.97356084],\n",
              "       [0.97203893],\n",
              "       [1.        ]])"
            ]
          },
          "execution_count": 178,
          "metadata": {},
          "output_type": "execute_result"
        }
      ],
      "source": [
        "scaled_values"
      ]
    },
    {
      "cell_type": "code",
      "execution_count": 179,
      "metadata": {
        "id": "UxeQsPVup0du"
      },
      "outputs": [],
      "source": [
        "apple_scaled_df = pd.DataFrame(scaled_values, columns = apple_df.columns, index = apple_df.index)"
      ]
    },
    {
      "cell_type": "code",
      "execution_count": 180,
      "metadata": {
        "colab": {
          "base_uri": "https://localhost:8080/",
          "height": 238
        },
        "id": "nyAix0aBqAFA",
        "outputId": "1498a392-e209-4f22-e568-50e3d42d2f3f"
      },
      "outputs": [
        {
          "data": {
            "text/html": [
              "<div>\n",
              "<style scoped>\n",
              "    .dataframe tbody tr th:only-of-type {\n",
              "        vertical-align: middle;\n",
              "    }\n",
              "\n",
              "    .dataframe tbody tr th {\n",
              "        vertical-align: top;\n",
              "    }\n",
              "\n",
              "    .dataframe thead th {\n",
              "        text-align: right;\n",
              "    }\n",
              "</style>\n",
              "<table border=\"1\" class=\"dataframe\">\n",
              "  <thead>\n",
              "    <tr style=\"text-align: right;\">\n",
              "      <th>Ticker</th>\n",
              "      <th>Close</th>\n",
              "    </tr>\n",
              "  </thead>\n",
              "  <tbody>\n",
              "    <tr>\n",
              "      <th>0</th>\n",
              "      <td>0.406001</td>\n",
              "    </tr>\n",
              "    <tr>\n",
              "      <th>1</th>\n",
              "      <td>0.379840</td>\n",
              "    </tr>\n",
              "    <tr>\n",
              "      <th>2</th>\n",
              "      <td>0.437182</td>\n",
              "    </tr>\n",
              "    <tr>\n",
              "      <th>3</th>\n",
              "      <td>0.421493</td>\n",
              "    </tr>\n",
              "    <tr>\n",
              "      <th>4</th>\n",
              "      <td>0.449246</td>\n",
              "    </tr>\n",
              "  </tbody>\n",
              "</table>\n",
              "</div>"
            ],
            "text/plain": [
              "Ticker     Close\n",
              "0       0.406001\n",
              "1       0.379840\n",
              "2       0.437182\n",
              "3       0.421493\n",
              "4       0.449246"
            ]
          },
          "execution_count": 180,
          "metadata": {},
          "output_type": "execute_result"
        }
      ],
      "source": [
        "apple_scaled_df.head()"
      ]
    },
    {
      "cell_type": "markdown",
      "metadata": {
        "id": "oi3kiTMsqEXM"
      },
      "source": [
        "**Plotting the CLOSE Column**"
      ]
    },
    {
      "cell_type": "code",
      "execution_count": 197,
      "metadata": {},
      "outputs": [
        {
          "data": {
            "text/plain": [
              "<Axes: >"
            ]
          },
          "execution_count": 197,
          "metadata": {},
          "output_type": "execute_result"
        },
        {
          "data": {
            "image/png": "[encoded data removed]",
            "text/plain": [
              "<Figure size 1200x600 with 1 Axes>"
            ]
          },
          "metadata": {},
          "output_type": "display_data"
        }
      ],
      "source": [
        "apple_scaled_df.plot(figsize=(12,6))"
      ]
    },
    {
      "cell_type": "markdown",
      "metadata": {
        "id": "JBCppKcSrgvx"
      },
      "source": [
        "**Sliding Window Sequences**"
      ]
    },
    {
      "cell_type": "code",
      "execution_count": 182,
      "metadata": {
        "id": "MK7HK95frgXB"
      },
      "outputs": [],
      "source": [
        "window_size = 60\n",
        "\n",
        "def create_sequence(data, window_size):\n",
        "    X = []\n",
        "    y = []\n",
        "    for i in range(window_size, len(data)):\n",
        "        X.append(data.iloc[i-window_size:i].values)\n",
        "        y.append(data.iloc[i].values)\n",
        "    return np.array(X), np.array(y)\n",
        "\n",
        "X, y = create_sequence(apple_scaled_df, window_size)"
      ]
    },
    {
      "cell_type": "code",
      "execution_count": 183,
      "metadata": {
        "colab": {
          "base_uri": "https://localhost:8080/"
        },
        "id": "6CN__dcCr51B",
        "outputId": "b339b9fd-f97c-4572-c604-4182fea31d1f"
      },
      "outputs": [
        {
          "data": {
            "text/plain": [
              "((191, 60, 1), (191, 1))"
            ]
          },
          "execution_count": 183,
          "metadata": {},
          "output_type": "execute_result"
        }
      ],
      "source": [
        "X.shape, y.shape"
      ]
    },
    {
      "cell_type": "code",
      "execution_count": 184,
      "metadata": {
        "colab": {
          "base_uri": "https://localhost:8080/"
        },
        "id": "o5TG_2i3tEi5",
        "outputId": "1ba0c157-ce0a-4314-963a-72e85cf0965f"
      },
      "outputs": [
        {
          "data": {
            "text/plain": [
              "((152, 60, 1), (152, 1), (39, 60, 1), (39, 1))"
            ]
          },
          "execution_count": 184,
          "metadata": {},
          "output_type": "execute_result"
        }
      ],
      "source": [
        "#train-test-split\n",
        "\n",
        "X_train, X_test, y_train, y_test = train_test_split(X, y, test_size = 0.2, random_state=42)\n",
        "X_train.shape, y_train.shape, X_test.shape, y_test.shape"
      ]
    },
    {
      "cell_type": "code",
      "execution_count": 185,
      "metadata": {
        "colab": {
          "base_uri": "https://localhost:8080/"
        },
        "id": "CEhLrWlquqSf",
        "outputId": "9ea0bcc7-ca2b-483b-cddd-931fe1f8671a"
      },
      "outputs": [
        {
          "data": {
            "text/plain": [
              "(60, 1, 1)"
            ]
          },
          "execution_count": 185,
          "metadata": {},
          "output_type": "execute_result"
        }
      ],
      "source": [
        "X_train.shape[1], X_train.shape[2], y_train.shape[1]"
      ]
    },
    {
      "cell_type": "markdown",
      "metadata": {
        "id": "hVWuJkUcuIxF"
      },
      "source": [
        "**Building the LSTM model** "
      ]
    },
    {
      "cell_type": "code",
      "execution_count": 186,
      "metadata": {
        "colab": {
          "base_uri": "https://localhost:8080/"
        },
        "id": "XLpCPVc-t2Im",
        "outputId": "b4aa64bf-90f0-48df-cb09-a85cbeb17b0d"
      },
      "outputs": [
        {
          "name": "stderr",
          "output_type": "stream",
          "text": [
            "c:\\Users\\Prerana Walvekar\\AppData\\Local\\Programs\\Python\\Python312\\Lib\\site-packages\\keras\\src\\layers\\rnn\\rnn.py:204: UserWarning: Do not pass an `input_shape`/`input_dim` argument to a layer. When using Sequential models, prefer using an `Input(shape)` object as the first layer in the model instead.\n",
            "  super().__init__(**kwargs)\n"
          ]
        }
      ],
      "source": [
        "model = keras.Sequential([\n",
        "    # Adding the first LSTM layer with Dropout\n",
        "    keras.layers.LSTM(units = 50, return_sequences=True, input_shape = (X_train.shape[1], X_train.shape[2])),\n",
        "    keras.layers.Dropout(0.3),\n",
        "\n",
        "    # Adding the second LSTM layer with Dropout\n",
        "    keras.layers.LSTM(units = 50, return_sequences=True),\n",
        "    keras.layers.Dropout(0.3),\n",
        "\n",
        "    # Adding the third LSTM layer with Dropout\n",
        "    keras.layers.LSTM(units = 50, return_sequences=False),\n",
        "    keras.layers.Dropout(0.3),\n",
        "\n",
        "    # Adding a Dense output layer\n",
        "    keras.layers.Dense(y_train.shape[1])\n",
        "])"
      ]
    },
    {
      "cell_type": "code",
      "execution_count": 187,
      "metadata": {
        "id": "sEC1TFybviHJ"
      },
      "outputs": [],
      "source": [
        "#compilation\n",
        "model.compile(optimizer = 'adam',\n",
        "              loss = 'mean_squared_error',\n",
        "              metrics = ['RootMeanSquaredError'])"
      ]
    },
    {
      "cell_type": "code",
      "execution_count": 188,
      "metadata": {
        "id": "NUL5X5j7vjI9"
      },
      "outputs": [],
      "source": [
        "#Early stopping condition\n",
        "early_stopping = EarlyStopping(monitor='val_loss',\n",
        "                               patience=10,\n",
        "                               restore_best_weights=True)"
      ]
    },
    {
      "cell_type": "code",
      "execution_count": 189,
      "metadata": {
        "colab": {
          "base_uri": "https://localhost:8080/"
        },
        "id": "qWoMMt78vpjd",
        "outputId": "89dc465e-ae5c-4f2b-beb2-1a82a27cd542"
      },
      "outputs": [
        {
          "name": "stdout",
          "output_type": "stream",
          "text": [
            "Epoch 1/100\n",
            "\u001b[1m41/41\u001b[0m \u001b[32m━━━━━━━━━━━━━━━━━━━━\u001b[0m\u001b[37m\u001b[0m \u001b[1m15s\u001b[0m 85ms/step - RootMeanSquaredError: 0.3426 - loss: 0.1269 - val_RootMeanSquaredError: 0.1156 - val_loss: 0.0134\n",
            "Epoch 2/100\n",
            "\u001b[1m41/41\u001b[0m \u001b[32m━━━━━━━━━━━━━━━━━━━━\u001b[0m\u001b[37m\u001b[0m \u001b[1m3s\u001b[0m 61ms/step - RootMeanSquaredError: 0.1655 - loss: 0.0275 - val_RootMeanSquaredError: 0.1277 - val_loss: 0.0163\n",
            "Epoch 3/100\n",
            "\u001b[1m41/41\u001b[0m \u001b[32m━━━━━━━━━━━━━━━━━━━━\u001b[0m\u001b[37m\u001b[0m \u001b[1m3s\u001b[0m 61ms/step - RootMeanSquaredError: 0.1412 - loss: 0.0200 - val_RootMeanSquaredError: 0.1144 - val_loss: 0.0131\n",
            "Epoch 4/100\n",
            "\u001b[1m41/41\u001b[0m \u001b[32m━━━━━━━━━━━━━━━━━━━━\u001b[0m\u001b[37m\u001b[0m \u001b[1m3s\u001b[0m 64ms/step - RootMeanSquaredError: 0.1747 - loss: 0.0309 - val_RootMeanSquaredError: 0.1050 - val_loss: 0.0110\n",
            "Epoch 5/100\n",
            "\u001b[1m41/41\u001b[0m \u001b[32m━━━━━━━━━━━━━━━━━━━━\u001b[0m\u001b[37m\u001b[0m \u001b[1m3s\u001b[0m 68ms/step - RootMeanSquaredError: 0.1358 - loss: 0.0188 - val_RootMeanSquaredError: 0.1003 - val_loss: 0.0101\n",
            "Epoch 6/100\n",
            "\u001b[1m41/41\u001b[0m \u001b[32m━━━━━━━━━━━━━━━━━━━━\u001b[0m\u001b[37m\u001b[0m \u001b[1m3s\u001b[0m 61ms/step - RootMeanSquaredError: 0.1422 - loss: 0.0203 - val_RootMeanSquaredError: 0.1144 - val_loss: 0.0131\n",
            "Epoch 7/100\n",
            "\u001b[1m41/41\u001b[0m \u001b[32m━━━━━━━━━━━━━━━━━━━━\u001b[0m\u001b[37m\u001b[0m \u001b[1m3s\u001b[0m 60ms/step - RootMeanSquaredError: 0.1145 - loss: 0.0133 - val_RootMeanSquaredError: 0.1024 - val_loss: 0.0105\n",
            "Epoch 8/100\n",
            "\u001b[1m41/41\u001b[0m \u001b[32m━━━━━━━━━━━━━━━━━━━━\u001b[0m\u001b[37m\u001b[0m \u001b[1m3s\u001b[0m 62ms/step - RootMeanSquaredError: 0.1398 - loss: 0.0196 - val_RootMeanSquaredError: 0.1023 - val_loss: 0.0105\n",
            "Epoch 9/100\n",
            "\u001b[1m41/41\u001b[0m \u001b[32m━━━━━━━━━━━━━━━━━━━━\u001b[0m\u001b[37m\u001b[0m \u001b[1m3s\u001b[0m 62ms/step - RootMeanSquaredError: 0.1525 - loss: 0.0237 - val_RootMeanSquaredError: 0.0896 - val_loss: 0.0080\n",
            "Epoch 10/100\n",
            "\u001b[1m41/41\u001b[0m \u001b[32m━━━━━━━━━━━━━━━━━━━━\u001b[0m\u001b[37m\u001b[0m \u001b[1m3s\u001b[0m 65ms/step - RootMeanSquaredError: 0.1355 - loss: 0.0186 - val_RootMeanSquaredError: 0.0957 - val_loss: 0.0092\n",
            "Epoch 11/100\n",
            "\u001b[1m41/41\u001b[0m \u001b[32m━━━━━━━━━━━━━━━━━━━━\u001b[0m\u001b[37m\u001b[0m \u001b[1m3s\u001b[0m 69ms/step - RootMeanSquaredError: 0.1377 - loss: 0.0194 - val_RootMeanSquaredError: 0.0884 - val_loss: 0.0078\n",
            "Epoch 12/100\n",
            "\u001b[1m41/41\u001b[0m \u001b[32m━━━━━━━━━━━━━━━━━━━━\u001b[0m\u001b[37m\u001b[0m \u001b[1m2s\u001b[0m 59ms/step - RootMeanSquaredError: 0.1430 - loss: 0.0205 - val_RootMeanSquaredError: 0.1075 - val_loss: 0.0116\n",
            "Epoch 13/100\n",
            "\u001b[1m41/41\u001b[0m \u001b[32m━━━━━━━━━━━━━━━━━━━━\u001b[0m\u001b[37m\u001b[0m \u001b[1m2s\u001b[0m 58ms/step - RootMeanSquaredError: 0.1304 - loss: 0.0172 - val_RootMeanSquaredError: 0.0846 - val_loss: 0.0072\n",
            "Epoch 14/100\n",
            "\u001b[1m41/41\u001b[0m \u001b[32m━━━━━━━━━━━━━━━━━━━━\u001b[0m\u001b[37m\u001b[0m \u001b[1m2s\u001b[0m 48ms/step - RootMeanSquaredError: 0.1267 - loss: 0.0161 - val_RootMeanSquaredError: 0.1071 - val_loss: 0.0115\n",
            "Epoch 15/100\n",
            "\u001b[1m41/41\u001b[0m \u001b[32m━━━━━━━━━━━━━━━━━━━━\u001b[0m\u001b[37m\u001b[0m \u001b[1m2s\u001b[0m 53ms/step - RootMeanSquaredError: 0.1175 - loss: 0.0141 - val_RootMeanSquaredError: 0.1054 - val_loss: 0.0111\n",
            "Epoch 16/100\n",
            "\u001b[1m41/41\u001b[0m \u001b[32m━━━━━━━━━━━━━━━━━━━━\u001b[0m\u001b[37m\u001b[0m \u001b[1m2s\u001b[0m 45ms/step - RootMeanSquaredError: 0.1167 - loss: 0.0138 - val_RootMeanSquaredError: 0.0827 - val_loss: 0.0068\n",
            "Epoch 17/100\n",
            "\u001b[1m41/41\u001b[0m \u001b[32m━━━━━━━━━━━━━━━━━━━━\u001b[0m\u001b[37m\u001b[0m \u001b[1m2s\u001b[0m 46ms/step - RootMeanSquaredError: 0.1242 - loss: 0.0155 - val_RootMeanSquaredError: 0.0834 - val_loss: 0.0070\n",
            "Epoch 18/100\n",
            "\u001b[1m41/41\u001b[0m \u001b[32m━━━━━━━━━━━━━━━━━━━━\u001b[0m\u001b[37m\u001b[0m \u001b[1m2s\u001b[0m 46ms/step - RootMeanSquaredError: 0.1187 - loss: 0.0142 - val_RootMeanSquaredError: 0.0836 - val_loss: 0.0070\n",
            "Epoch 19/100\n",
            "\u001b[1m41/41\u001b[0m \u001b[32m━━━━━━━━━━━━━━━━━━━━\u001b[0m\u001b[37m\u001b[0m \u001b[1m2s\u001b[0m 47ms/step - RootMeanSquaredError: 0.1095 - loss: 0.0121 - val_RootMeanSquaredError: 0.0873 - val_loss: 0.0076\n",
            "Epoch 20/100\n",
            "\u001b[1m41/41\u001b[0m \u001b[32m━━━━━━━━━━━━━━━━━━━━\u001b[0m\u001b[37m\u001b[0m \u001b[1m3s\u001b[0m 44ms/step - RootMeanSquaredError: 0.1288 - loss: 0.0167 - val_RootMeanSquaredError: 0.0821 - val_loss: 0.0067\n",
            "Epoch 21/100\n",
            "\u001b[1m41/41\u001b[0m \u001b[32m━━━━━━━━━━━━━━━━━━━━\u001b[0m\u001b[37m\u001b[0m \u001b[1m3s\u001b[0m 45ms/step - RootMeanSquaredError: 0.1071 - loss: 0.0116 - val_RootMeanSquaredError: 0.0783 - val_loss: 0.0061\n",
            "Epoch 22/100\n",
            "\u001b[1m41/41\u001b[0m \u001b[32m━━━━━━━━━━━━━━━━━━━━\u001b[0m\u001b[37m\u001b[0m \u001b[1m2s\u001b[0m 43ms/step - RootMeanSquaredError: 0.1104 - loss: 0.0122 - val_RootMeanSquaredError: 0.0930 - val_loss: 0.0086\n",
            "Epoch 23/100\n",
            "\u001b[1m41/41\u001b[0m \u001b[32m━━━━━━━━━━━━━━━━━━━━\u001b[0m\u001b[37m\u001b[0m \u001b[1m3s\u001b[0m 65ms/step - RootMeanSquaredError: 0.0988 - loss: 0.0099 - val_RootMeanSquaredError: 0.0839 - val_loss: 0.0070\n",
            "Epoch 24/100\n",
            "\u001b[1m41/41\u001b[0m \u001b[32m━━━━━━━━━━━━━━━━━━━━\u001b[0m\u001b[37m\u001b[0m \u001b[1m3s\u001b[0m 69ms/step - RootMeanSquaredError: 0.1103 - loss: 0.0122 - val_RootMeanSquaredError: 0.1379 - val_loss: 0.0190\n",
            "Epoch 25/100\n",
            "\u001b[1m41/41\u001b[0m \u001b[32m━━━━━━━━━━━━━━━━━━━━\u001b[0m\u001b[37m\u001b[0m \u001b[1m3s\u001b[0m 63ms/step - RootMeanSquaredError: 0.1127 - loss: 0.0128 - val_RootMeanSquaredError: 0.1052 - val_loss: 0.0111\n",
            "Epoch 26/100\n",
            "\u001b[1m41/41\u001b[0m \u001b[32m━━━━━━━━━━━━━━━━━━━━\u001b[0m\u001b[37m\u001b[0m \u001b[1m2s\u001b[0m 45ms/step - RootMeanSquaredError: 0.1023 - loss: 0.0105 - val_RootMeanSquaredError: 0.0950 - val_loss: 0.0090\n",
            "Epoch 27/100\n",
            "\u001b[1m41/41\u001b[0m \u001b[32m━━━━━━━━━━━━━━━━━━━━\u001b[0m\u001b[37m\u001b[0m \u001b[1m2s\u001b[0m 45ms/step - RootMeanSquaredError: 0.1241 - loss: 0.0155 - val_RootMeanSquaredError: 0.0729 - val_loss: 0.0053\n",
            "Epoch 28/100\n",
            "\u001b[1m41/41\u001b[0m \u001b[32m━━━━━━━━━━━━━━━━━━━━\u001b[0m\u001b[37m\u001b[0m \u001b[1m3s\u001b[0m 56ms/step - RootMeanSquaredError: 0.1105 - loss: 0.0123 - val_RootMeanSquaredError: 0.0731 - val_loss: 0.0053\n",
            "Epoch 29/100\n",
            "\u001b[1m41/41\u001b[0m \u001b[32m━━━━━━━━━━━━━━━━━━━━\u001b[0m\u001b[37m\u001b[0m \u001b[1m2s\u001b[0m 51ms/step - RootMeanSquaredError: 0.0921 - loss: 0.0086 - val_RootMeanSquaredError: 0.0780 - val_loss: 0.0061\n",
            "Epoch 30/100\n",
            "\u001b[1m41/41\u001b[0m \u001b[32m━━━━━━━━━━━━━━━━━━━━\u001b[0m\u001b[37m\u001b[0m \u001b[1m2s\u001b[0m 49ms/step - RootMeanSquaredError: 0.1054 - loss: 0.0113 - val_RootMeanSquaredError: 0.0712 - val_loss: 0.0051\n",
            "Epoch 31/100\n",
            "\u001b[1m41/41\u001b[0m \u001b[32m━━━━━━━━━━━━━━━━━━━━\u001b[0m\u001b[37m\u001b[0m \u001b[1m2s\u001b[0m 47ms/step - RootMeanSquaredError: 0.1036 - loss: 0.0108 - val_RootMeanSquaredError: 0.0736 - val_loss: 0.0054\n",
            "Epoch 32/100\n",
            "\u001b[1m41/41\u001b[0m \u001b[32m━━━━━━━━━━━━━━━━━━━━\u001b[0m\u001b[37m\u001b[0m \u001b[1m2s\u001b[0m 46ms/step - RootMeanSquaredError: 0.0882 - loss: 0.0080 - val_RootMeanSquaredError: 0.0878 - val_loss: 0.0077\n",
            "Epoch 33/100\n",
            "\u001b[1m41/41\u001b[0m \u001b[32m━━━━━━━━━━━━━━━━━━━━\u001b[0m\u001b[37m\u001b[0m \u001b[1m2s\u001b[0m 46ms/step - RootMeanSquaredError: 0.0998 - loss: 0.0103 - val_RootMeanSquaredError: 0.0687 - val_loss: 0.0047\n",
            "Epoch 34/100\n",
            "\u001b[1m41/41\u001b[0m \u001b[32m━━━━━━━━━━━━━━━━━━━━\u001b[0m\u001b[37m\u001b[0m \u001b[1m2s\u001b[0m 47ms/step - RootMeanSquaredError: 0.1005 - loss: 0.0101 - val_RootMeanSquaredError: 0.0837 - val_loss: 0.0070\n",
            "Epoch 35/100\n",
            "\u001b[1m41/41\u001b[0m \u001b[32m━━━━━━━━━━━━━━━━━━━━\u001b[0m\u001b[37m\u001b[0m \u001b[1m2s\u001b[0m 52ms/step - RootMeanSquaredError: 0.1062 - loss: 0.0116 - val_RootMeanSquaredError: 0.0683 - val_loss: 0.0047\n",
            "Epoch 36/100\n",
            "\u001b[1m41/41\u001b[0m \u001b[32m━━━━━━━━━━━━━━━━━━━━\u001b[0m\u001b[37m\u001b[0m \u001b[1m2s\u001b[0m 59ms/step - RootMeanSquaredError: 0.1031 - loss: 0.0107 - val_RootMeanSquaredError: 0.1051 - val_loss: 0.0111\n",
            "Epoch 37/100\n",
            "\u001b[1m41/41\u001b[0m \u001b[32m━━━━━━━━━━━━━━━━━━━━\u001b[0m\u001b[37m\u001b[0m \u001b[1m3s\u001b[0m 61ms/step - RootMeanSquaredError: 0.1011 - loss: 0.0103 - val_RootMeanSquaredError: 0.0768 - val_loss: 0.0059\n",
            "Epoch 38/100\n",
            "\u001b[1m41/41\u001b[0m \u001b[32m━━━━━━━━━━━━━━━━━━━━\u001b[0m\u001b[37m\u001b[0m \u001b[1m3s\u001b[0m 62ms/step - RootMeanSquaredError: 0.1093 - loss: 0.0121 - val_RootMeanSquaredError: 0.0676 - val_loss: 0.0046\n",
            "Epoch 39/100\n",
            "\u001b[1m41/41\u001b[0m \u001b[32m━━━━━━━━━━━━━━━━━━━━\u001b[0m\u001b[37m\u001b[0m \u001b[1m2s\u001b[0m 48ms/step - RootMeanSquaredError: 0.0953 - loss: 0.0093 - val_RootMeanSquaredError: 0.0684 - val_loss: 0.0047\n",
            "Epoch 40/100\n",
            "\u001b[1m41/41\u001b[0m \u001b[32m━━━━━━━━━━━━━━━━━━━━\u001b[0m\u001b[37m\u001b[0m \u001b[1m2s\u001b[0m 46ms/step - RootMeanSquaredError: 0.1035 - loss: 0.0108 - val_RootMeanSquaredError: 0.0680 - val_loss: 0.0046\n",
            "Epoch 41/100\n",
            "\u001b[1m41/41\u001b[0m \u001b[32m━━━━━━━━━━━━━━━━━━━━\u001b[0m\u001b[37m\u001b[0m \u001b[1m2s\u001b[0m 50ms/step - RootMeanSquaredError: 0.0998 - loss: 0.0101 - val_RootMeanSquaredError: 0.0902 - val_loss: 0.0081\n",
            "Epoch 42/100\n",
            "\u001b[1m41/41\u001b[0m \u001b[32m━━━━━━━━━━━━━━━━━━━━\u001b[0m\u001b[37m\u001b[0m \u001b[1m2s\u001b[0m 49ms/step - RootMeanSquaredError: 0.1080 - loss: 0.0119 - val_RootMeanSquaredError: 0.0632 - val_loss: 0.0040\n",
            "Epoch 43/100\n",
            "\u001b[1m41/41\u001b[0m \u001b[32m━━━━━━━━━━━━━━━━━━━━\u001b[0m\u001b[37m\u001b[0m \u001b[1m2s\u001b[0m 52ms/step - RootMeanSquaredError: 0.0940 - loss: 0.0089 - val_RootMeanSquaredError: 0.0648 - val_loss: 0.0042\n",
            "Epoch 44/100\n",
            "\u001b[1m41/41\u001b[0m \u001b[32m━━━━━━━━━━━━━━━━━━━━\u001b[0m\u001b[37m\u001b[0m \u001b[1m2s\u001b[0m 49ms/step - RootMeanSquaredError: 0.1001 - loss: 0.0101 - val_RootMeanSquaredError: 0.0630 - val_loss: 0.0040\n",
            "Epoch 45/100\n",
            "\u001b[1m41/41\u001b[0m \u001b[32m━━━━━━━━━━━━━━━━━━━━\u001b[0m\u001b[37m\u001b[0m \u001b[1m2s\u001b[0m 47ms/step - RootMeanSquaredError: 0.0850 - loss: 0.0073 - val_RootMeanSquaredError: 0.0979 - val_loss: 0.0096\n",
            "Epoch 46/100\n",
            "\u001b[1m41/41\u001b[0m \u001b[32m━━━━━━━━━━━━━━━━━━━━\u001b[0m\u001b[37m\u001b[0m \u001b[1m2s\u001b[0m 49ms/step - RootMeanSquaredError: 0.0943 - loss: 0.0090 - val_RootMeanSquaredError: 0.0625 - val_loss: 0.0039\n",
            "Epoch 47/100\n",
            "\u001b[1m41/41\u001b[0m \u001b[32m━━━━━━━━━━━━━━━━━━━━\u001b[0m\u001b[37m\u001b[0m \u001b[1m3s\u001b[0m 50ms/step - RootMeanSquaredError: 0.0968 - loss: 0.0096 - val_RootMeanSquaredError: 0.0761 - val_loss: 0.0058\n",
            "Epoch 48/100\n",
            "\u001b[1m41/41\u001b[0m \u001b[32m━━━━━━━━━━━━━━━━━━━━\u001b[0m\u001b[37m\u001b[0m \u001b[1m2s\u001b[0m 49ms/step - RootMeanSquaredError: 0.1046 - loss: 0.0110 - val_RootMeanSquaredError: 0.0683 - val_loss: 0.0047\n",
            "Epoch 49/100\n",
            "\u001b[1m41/41\u001b[0m \u001b[32m━━━━━━━━━━━━━━━━━━━━\u001b[0m\u001b[37m\u001b[0m \u001b[1m2s\u001b[0m 47ms/step - RootMeanSquaredError: 0.0809 - loss: 0.0066 - val_RootMeanSquaredError: 0.0894 - val_loss: 0.0080\n",
            "Epoch 50/100\n",
            "\u001b[1m41/41\u001b[0m \u001b[32m━━━━━━━━━━━━━━━━━━━━\u001b[0m\u001b[37m\u001b[0m \u001b[1m2s\u001b[0m 49ms/step - RootMeanSquaredError: 0.0965 - loss: 0.0095 - val_RootMeanSquaredError: 0.0712 - val_loss: 0.0051\n",
            "Epoch 51/100\n",
            "\u001b[1m41/41\u001b[0m \u001b[32m━━━━━━━━━━━━━━━━━━━━\u001b[0m\u001b[37m\u001b[0m \u001b[1m2s\u001b[0m 53ms/step - RootMeanSquaredError: 0.0974 - loss: 0.0096 - val_RootMeanSquaredError: 0.0644 - val_loss: 0.0041\n",
            "Epoch 52/100\n",
            "\u001b[1m41/41\u001b[0m \u001b[32m━━━━━━━━━━━━━━━━━━━━\u001b[0m\u001b[37m\u001b[0m \u001b[1m2s\u001b[0m 48ms/step - RootMeanSquaredError: 0.0818 - loss: 0.0067 - val_RootMeanSquaredError: 0.0731 - val_loss: 0.0053\n",
            "Epoch 53/100\n",
            "\u001b[1m41/41\u001b[0m \u001b[32m━━━━━━━━━━━━━━━━━━━━\u001b[0m\u001b[37m\u001b[0m \u001b[1m2s\u001b[0m 46ms/step - RootMeanSquaredError: 0.0943 - loss: 0.0090 - val_RootMeanSquaredError: 0.0976 - val_loss: 0.0095\n",
            "Epoch 54/100\n",
            "\u001b[1m41/41\u001b[0m \u001b[32m━━━━━━━━━━━━━━━━━━━━\u001b[0m\u001b[37m\u001b[0m \u001b[1m2s\u001b[0m 48ms/step - RootMeanSquaredError: 0.0975 - loss: 0.0097 - val_RootMeanSquaredError: 0.0957 - val_loss: 0.0092\n",
            "Epoch 55/100\n",
            "\u001b[1m41/41\u001b[0m \u001b[32m━━━━━━━━━━━━━━━━━━━━\u001b[0m\u001b[37m\u001b[0m \u001b[1m2s\u001b[0m 48ms/step - RootMeanSquaredError: 0.0909 - loss: 0.0083 - val_RootMeanSquaredError: 0.0584 - val_loss: 0.0034\n",
            "Epoch 56/100\n",
            "\u001b[1m41/41\u001b[0m \u001b[32m━━━━━━━━━━━━━━━━━━━━\u001b[0m\u001b[37m\u001b[0m \u001b[1m2s\u001b[0m 51ms/step - RootMeanSquaredError: 0.0926 - loss: 0.0086 - val_RootMeanSquaredError: 0.0595 - val_loss: 0.0035\n",
            "Epoch 57/100\n",
            "\u001b[1m41/41\u001b[0m \u001b[32m━━━━━━━━━━━━━━━━━━━━\u001b[0m\u001b[37m\u001b[0m \u001b[1m3s\u001b[0m 47ms/step - RootMeanSquaredError: 0.0946 - loss: 0.0090 - val_RootMeanSquaredError: 0.0665 - val_loss: 0.0044\n",
            "Epoch 58/100\n",
            "\u001b[1m41/41\u001b[0m \u001b[32m━━━━━━━━━━━━━━━━━━━━\u001b[0m\u001b[37m\u001b[0m \u001b[1m2s\u001b[0m 47ms/step - RootMeanSquaredError: 0.1012 - loss: 0.0103 - val_RootMeanSquaredError: 0.0692 - val_loss: 0.0048\n",
            "Epoch 59/100\n",
            "\u001b[1m41/41\u001b[0m \u001b[32m━━━━━━━━━━━━━━━━━━━━\u001b[0m\u001b[37m\u001b[0m \u001b[1m2s\u001b[0m 47ms/step - RootMeanSquaredError: 0.0858 - loss: 0.0074 - val_RootMeanSquaredError: 0.0677 - val_loss: 0.0046\n",
            "Epoch 60/100\n",
            "\u001b[1m41/41\u001b[0m \u001b[32m━━━━━━━━━━━━━━━━━━━━\u001b[0m\u001b[37m\u001b[0m \u001b[1m2s\u001b[0m 52ms/step - RootMeanSquaredError: 0.0812 - loss: 0.0067 - val_RootMeanSquaredError: 0.0787 - val_loss: 0.0062\n",
            "Epoch 61/100\n",
            "\u001b[1m41/41\u001b[0m \u001b[32m━━━━━━━━━━━━━━━━━━━━\u001b[0m\u001b[37m\u001b[0m \u001b[1m2s\u001b[0m 46ms/step - RootMeanSquaredError: 0.0821 - loss: 0.0068 - val_RootMeanSquaredError: 0.0644 - val_loss: 0.0041\n",
            "Epoch 62/100\n",
            "\u001b[1m41/41\u001b[0m \u001b[32m━━━━━━━━━━━━━━━━━━━━\u001b[0m\u001b[37m\u001b[0m \u001b[1m3s\u001b[0m 49ms/step - RootMeanSquaredError: 0.0941 - loss: 0.0089 - val_RootMeanSquaredError: 0.1035 - val_loss: 0.0107\n",
            "Epoch 63/100\n",
            "\u001b[1m41/41\u001b[0m \u001b[32m━━━━━━━━━━━━━━━━━━━━\u001b[0m\u001b[37m\u001b[0m \u001b[1m2s\u001b[0m 49ms/step - RootMeanSquaredError: 0.1136 - loss: 0.0130 - val_RootMeanSquaredError: 0.0644 - val_loss: 0.0041\n",
            "Epoch 64/100\n",
            "\u001b[1m41/41\u001b[0m \u001b[32m━━━━━━━━━━━━━━━━━━━━\u001b[0m\u001b[37m\u001b[0m \u001b[1m2s\u001b[0m 52ms/step - RootMeanSquaredError: 0.0870 - loss: 0.0077 - val_RootMeanSquaredError: 0.0669 - val_loss: 0.0045\n",
            "Epoch 65/100\n",
            "\u001b[1m41/41\u001b[0m \u001b[32m━━━━━━━━━━━━━━━━━━━━\u001b[0m\u001b[37m\u001b[0m \u001b[1m2s\u001b[0m 48ms/step - RootMeanSquaredError: 0.0806 - loss: 0.0067 - val_RootMeanSquaredError: 0.0532 - val_loss: 0.0028\n",
            "Epoch 66/100\n",
            "\u001b[1m41/41\u001b[0m \u001b[32m━━━━━━━━━━━━━━━━━━━━\u001b[0m\u001b[37m\u001b[0m \u001b[1m2s\u001b[0m 57ms/step - RootMeanSquaredError: 0.0771 - loss: 0.0061 - val_RootMeanSquaredError: 0.0565 - val_loss: 0.0032\n",
            "Epoch 67/100\n",
            "\u001b[1m41/41\u001b[0m \u001b[32m━━━━━━━━━━━━━━━━━━━━\u001b[0m\u001b[37m\u001b[0m \u001b[1m3s\u001b[0m 61ms/step - RootMeanSquaredError: 0.0790 - loss: 0.0063 - val_RootMeanSquaredError: 0.0762 - val_loss: 0.0058\n",
            "Epoch 68/100\n",
            "\u001b[1m41/41\u001b[0m \u001b[32m━━━━━━━━━━━━━━━━━━━━\u001b[0m\u001b[37m\u001b[0m \u001b[1m2s\u001b[0m 59ms/step - RootMeanSquaredError: 0.0957 - loss: 0.0093 - val_RootMeanSquaredError: 0.0895 - val_loss: 0.0080\n",
            "Epoch 69/100\n",
            "\u001b[1m41/41\u001b[0m \u001b[32m━━━━━━━━━━━━━━━━━━━━\u001b[0m\u001b[37m\u001b[0m \u001b[1m3s\u001b[0m 62ms/step - RootMeanSquaredError: 0.0971 - loss: 0.0095 - val_RootMeanSquaredError: 0.0571 - val_loss: 0.0033\n",
            "Epoch 70/100\n",
            "\u001b[1m41/41\u001b[0m \u001b[32m━━━━━━━━━━━━━━━━━━━━\u001b[0m\u001b[37m\u001b[0m \u001b[1m2s\u001b[0m 55ms/step - RootMeanSquaredError: 0.0872 - loss: 0.0076 - val_RootMeanSquaredError: 0.0595 - val_loss: 0.0035\n",
            "Epoch 71/100\n",
            "\u001b[1m41/41\u001b[0m \u001b[32m━━━━━━━━━━━━━━━━━━━━\u001b[0m\u001b[37m\u001b[0m \u001b[1m3s\u001b[0m 60ms/step - RootMeanSquaredError: 0.0933 - loss: 0.0089 - val_RootMeanSquaredError: 0.0566 - val_loss: 0.0032\n",
            "Epoch 72/100\n",
            "\u001b[1m41/41\u001b[0m \u001b[32m━━━━━━━━━━━━━━━━━━━━\u001b[0m\u001b[37m\u001b[0m \u001b[1m2s\u001b[0m 54ms/step - RootMeanSquaredError: 0.0840 - loss: 0.0072 - val_RootMeanSquaredError: 0.0611 - val_loss: 0.0037\n",
            "Epoch 73/100\n",
            "\u001b[1m41/41\u001b[0m \u001b[32m━━━━━━━━━━━━━━━━━━━━\u001b[0m\u001b[37m\u001b[0m \u001b[1m2s\u001b[0m 55ms/step - RootMeanSquaredError: 0.0960 - loss: 0.0093 - val_RootMeanSquaredError: 0.0729 - val_loss: 0.0053\n",
            "Epoch 74/100\n",
            "\u001b[1m41/41\u001b[0m \u001b[32m━━━━━━━━━━━━━━━━━━━━\u001b[0m\u001b[37m\u001b[0m \u001b[1m2s\u001b[0m 51ms/step - RootMeanSquaredError: 0.0835 - loss: 0.0070 - val_RootMeanSquaredError: 0.0582 - val_loss: 0.0034\n",
            "Epoch 75/100\n",
            "\u001b[1m41/41\u001b[0m \u001b[32m━━━━━━━━━━━━━━━━━━━━\u001b[0m\u001b[37m\u001b[0m \u001b[1m2s\u001b[0m 51ms/step - RootMeanSquaredError: 0.1071 - loss: 0.0115 - val_RootMeanSquaredError: 0.0532 - val_loss: 0.0028\n",
            "Epoch 76/100\n",
            "\u001b[1m41/41\u001b[0m \u001b[32m━━━━━━━━━━━━━━━━━━━━\u001b[0m\u001b[37m\u001b[0m \u001b[1m2s\u001b[0m 57ms/step - RootMeanSquaredError: 0.0945 - loss: 0.0090 - val_RootMeanSquaredError: 0.0612 - val_loss: 0.0037\n",
            "Epoch 77/100\n",
            "\u001b[1m41/41\u001b[0m \u001b[32m━━━━━━━━━━━━━━━━━━━━\u001b[0m\u001b[37m\u001b[0m \u001b[1m2s\u001b[0m 55ms/step - RootMeanSquaredError: 0.0792 - loss: 0.0064 - val_RootMeanSquaredError: 0.0519 - val_loss: 0.0027\n",
            "Epoch 78/100\n",
            "\u001b[1m41/41\u001b[0m \u001b[32m━━━━━━━━━━━━━━━━━━━━\u001b[0m\u001b[37m\u001b[0m \u001b[1m2s\u001b[0m 49ms/step - RootMeanSquaredError: 0.0988 - loss: 0.0098 - val_RootMeanSquaredError: 0.0782 - val_loss: 0.0061\n",
            "Epoch 79/100\n",
            "\u001b[1m41/41\u001b[0m \u001b[32m━━━━━━━━━━━━━━━━━━━━\u001b[0m\u001b[37m\u001b[0m \u001b[1m3s\u001b[0m 63ms/step - RootMeanSquaredError: 0.0996 - loss: 0.0100 - val_RootMeanSquaredError: 0.0498 - val_loss: 0.0025\n",
            "Epoch 80/100\n",
            "\u001b[1m41/41\u001b[0m \u001b[32m━━━━━━━━━━━━━━━━━━━━\u001b[0m\u001b[37m\u001b[0m \u001b[1m2s\u001b[0m 53ms/step - RootMeanSquaredError: 0.0770 - loss: 0.0061 - val_RootMeanSquaredError: 0.0816 - val_loss: 0.0067\n",
            "Epoch 81/100\n",
            "\u001b[1m41/41\u001b[0m \u001b[32m━━━━━━━━━━━━━━━━━━━━\u001b[0m\u001b[37m\u001b[0m \u001b[1m2s\u001b[0m 48ms/step - RootMeanSquaredError: 0.0905 - loss: 0.0083 - val_RootMeanSquaredError: 0.0491 - val_loss: 0.0024\n",
            "Epoch 82/100\n",
            "\u001b[1m41/41\u001b[0m \u001b[32m━━━━━━━━━━━━━━━━━━━━\u001b[0m\u001b[37m\u001b[0m \u001b[1m2s\u001b[0m 48ms/step - RootMeanSquaredError: 0.0813 - loss: 0.0066 - val_RootMeanSquaredError: 0.0613 - val_loss: 0.0038\n",
            "Epoch 83/100\n",
            "\u001b[1m41/41\u001b[0m \u001b[32m━━━━━━━━━━━━━━━━━━━━\u001b[0m\u001b[37m\u001b[0m \u001b[1m2s\u001b[0m 50ms/step - RootMeanSquaredError: 0.0811 - loss: 0.0067 - val_RootMeanSquaredError: 0.0525 - val_loss: 0.0028\n",
            "Epoch 84/100\n",
            "\u001b[1m41/41\u001b[0m \u001b[32m━━━━━━━━━━━━━━━━━━━━\u001b[0m\u001b[37m\u001b[0m \u001b[1m2s\u001b[0m 47ms/step - RootMeanSquaredError: 0.0856 - loss: 0.0074 - val_RootMeanSquaredError: 0.0611 - val_loss: 0.0037\n",
            "Epoch 85/100\n",
            "\u001b[1m41/41\u001b[0m \u001b[32m━━━━━━━━━━━━━━━━━━━━\u001b[0m\u001b[37m\u001b[0m \u001b[1m2s\u001b[0m 48ms/step - RootMeanSquaredError: 0.0953 - loss: 0.0091 - val_RootMeanSquaredError: 0.0531 - val_loss: 0.0028\n",
            "Epoch 86/100\n",
            "\u001b[1m41/41\u001b[0m \u001b[32m━━━━━━━━━━━━━━━━━━━━\u001b[0m\u001b[37m\u001b[0m \u001b[1m2s\u001b[0m 47ms/step - RootMeanSquaredError: 0.0835 - loss: 0.0070 - val_RootMeanSquaredError: 0.0533 - val_loss: 0.0028\n",
            "Epoch 87/100\n",
            "\u001b[1m41/41\u001b[0m \u001b[32m━━━━━━━━━━━━━━━━━━━━\u001b[0m\u001b[37m\u001b[0m \u001b[1m2s\u001b[0m 53ms/step - RootMeanSquaredError: 0.0885 - loss: 0.0079 - val_RootMeanSquaredError: 0.0491 - val_loss: 0.0024\n",
            "Epoch 88/100\n",
            "\u001b[1m41/41\u001b[0m \u001b[32m━━━━━━━━━━━━━━━━━━━━\u001b[0m\u001b[37m\u001b[0m \u001b[1m2s\u001b[0m 46ms/step - RootMeanSquaredError: 0.0894 - loss: 0.0082 - val_RootMeanSquaredError: 0.0758 - val_loss: 0.0058\n",
            "Epoch 89/100\n",
            "\u001b[1m41/41\u001b[0m \u001b[32m━━━━━━━━━━━━━━━━━━━━\u001b[0m\u001b[37m\u001b[0m \u001b[1m2s\u001b[0m 49ms/step - RootMeanSquaredError: 0.0837 - loss: 0.0071 - val_RootMeanSquaredError: 0.0574 - val_loss: 0.0033\n",
            "Epoch 90/100\n",
            "\u001b[1m41/41\u001b[0m \u001b[32m━━━━━━━━━━━━━━━━━━━━\u001b[0m\u001b[37m\u001b[0m \u001b[1m2s\u001b[0m 59ms/step - RootMeanSquaredError: 0.0871 - loss: 0.0076 - val_RootMeanSquaredError: 0.0928 - val_loss: 0.0086\n",
            "Epoch 91/100\n",
            "\u001b[1m41/41\u001b[0m \u001b[32m━━━━━━━━━━━━━━━━━━━━\u001b[0m\u001b[37m\u001b[0m \u001b[1m2s\u001b[0m 49ms/step - RootMeanSquaredError: 0.0873 - loss: 0.0078 - val_RootMeanSquaredError: 0.0520 - val_loss: 0.0027\n"
          ]
        }
      ],
      "source": [
        "history = model.fit(X_train, y_train,\n",
        "                    validation_split = 0.2,\n",
        "                    epochs=100,\n",
        "                    batch_size=3,\n",
        "                    callbacks=[early_stopping])"
      ]
    },
    {
      "cell_type": "code",
      "execution_count": 190,
      "metadata": {
        "colab": {
          "base_uri": "https://localhost:8080/"
        },
        "id": "quZ0VbJWvyZX",
        "outputId": "54f52cc2-42f5-4ca5-d46f-e898229bb899"
      },
      "outputs": [
        {
          "name": "stdout",
          "output_type": "stream",
          "text": [
            "WARNING:tensorflow:5 out of the last 5 calls to <function TensorFlowTrainer.make_predict_function.<locals>.one_step_on_data_distributed at 0x0000013E7DDA7100> triggered tf.function retracing. Tracing is expensive and the excessive number of tracings could be due to (1) creating @tf.function repeatedly in a loop, (2) passing tensors with different shapes, (3) passing Python objects instead of tensors. For (1), please define your @tf.function outside of the loop. For (2), @tf.function has reduce_retracing=True option that can avoid unnecessary retracing. For (3), please refer to https://www.tensorflow.org/guide/function#controlling_retracing and https://www.tensorflow.org/api_docs/python/tf/function for  more details.\n",
            "\u001b[1m1/2\u001b[0m \u001b[32m━━━━━━━━━━\u001b[0m\u001b[37m━━━━━━━━━━\u001b[0m \u001b[1m0s\u001b[0m 851ms/stepWARNING:tensorflow:6 out of the last 6 calls to <function TensorFlowTrainer.make_predict_function.<locals>.one_step_on_data_distributed at 0x0000013E7DDA7100> triggered tf.function retracing. Tracing is expensive and the excessive number of tracings could be due to (1) creating @tf.function repeatedly in a loop, (2) passing tensors with different shapes, (3) passing Python objects instead of tensors. For (1), please define your @tf.function outside of the loop. For (2), @tf.function has reduce_retracing=True option that can avoid unnecessary retracing. For (3), please refer to https://www.tensorflow.org/guide/function#controlling_retracing and https://www.tensorflow.org/api_docs/python/tf/function for  more details.\n",
            "\u001b[1m2/2\u001b[0m \u001b[32m━━━━━━━━━━━━━━━━━━━━\u001b[0m\u001b[37m\u001b[0m \u001b[1m2s\u001b[0m 721ms/step\n"
          ]
        }
      ],
      "source": [
        "# Making predictions on the test data\n",
        "predictions = model.predict(X_test)"
      ]
    },
    {
      "cell_type": "code",
      "execution_count": 191,
      "metadata": {
        "id": "wmcQww0AwJyv"
      },
      "outputs": [],
      "source": [
        "# Inverse scaling to get the original values\n",
        "predictions = scaler.inverse_transform(predictions)\n",
        "y_test_rescaled = scaler.inverse_transform(y_test)"
      ]
    },
    {
      "cell_type": "code",
      "execution_count": 195,
      "metadata": {
        "colab": {
          "base_uri": "https://localhost:8080/",
          "height": 670
        },
        "id": "6Bkd1dN_wNZC",
        "outputId": "d6749d28-dca0-4368-d865-bda6d2fff32d"
      },
      "outputs": [
        {
          "data": {
            "image/png": "[encoded data removed]",
            "text/plain": [
              "<Figure size 1000x600 with 1 Axes>"
            ]
          },
          "metadata": {},
          "output_type": "display_data"
        }
      ],
      "source": [
        "# Plotting the results\n",
        "plt.figure(figsize=(10, 6))\n",
        "\n",
        "plt.plot(y_test_rescaled[:, i], color='blue', label=f'Actual {col}')\n",
        "plt.plot(predictions[:, i], color='red', label=f'Predicted {col}')\n",
        "plt.title(f'{col} Price Prediction')\n",
        "plt.xlabel('Time')\n",
        "plt.ylabel(f'{col} Price')\n",
        "plt.legend()\n",
        "\n",
        "plt.tight_layout()"
      ]
    },
    {
      "cell_type": "code",
      "execution_count": 184,
      "metadata": {
        "id": "zSDvZCA363a1"
      },
      "outputs": [],
      "source": []
    }
  ],
  "metadata": {
    "colab": {
      "provenance": []
    },
    "kernelspec": {
      "display_name": "Python 3",
      "name": "python3"
    },
    "language_info": {
      "codemirror_mode": {
        "name": "ipython",
        "version": 3
      },
      "file_extension": ".py",
      "mimetype": "text/x-python",
      "name": "python",
      "nbconvert_exporter": "python",
      "pygments_lexer": "ipython3",
      "version": "3.12.6"
    }
  },
  "nbformat": 4,
  "nbformat_minor": 0
}
